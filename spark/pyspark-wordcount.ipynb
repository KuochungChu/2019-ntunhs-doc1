{
 "cells": [
  {
   "cell_type": "code",
   "execution_count": 1,
   "metadata": {},
   "outputs": [],
   "source": [
    "from pyspark.sql import SparkSession "
   ]
  },
  {
   "cell_type": "code",
   "execution_count": 2,
   "metadata": {},
   "outputs": [
    {
     "data": {
      "text/html": [
       "\n",
       "        <div>\n",
       "            <p><b>SparkContext</b></p>\n",
       "\n",
       "            <p><a href=\"http://b1c5e8ab8fd8:4041\">Spark UI</a></p>\n",
       "\n",
       "            <dl>\n",
       "              <dt>Version</dt>\n",
       "                <dd><code>v2.4.2</code></dd>\n",
       "              <dt>Master</dt>\n",
       "                <dd><code>local</code></dd>\n",
       "              <dt>AppName</dt>\n",
       "                <dd><code>pyspark-wordcount</code></dd>\n",
       "            </dl>\n",
       "        </div>\n",
       "        "
      ],
      "text/plain": [
       "<SparkContext master=local appName=pyspark-wordcount>"
      ]
     },
     "execution_count": 2,
     "metadata": {},
     "output_type": "execute_result"
    }
   ],
   "source": [
    "spark = SparkSession.builder.master(\"local\").appName(\"pyspark-wordcount\").getOrCreate()\n",
    "spark.sparkContext"
   ]
  },
  {
   "cell_type": "code",
   "execution_count": 3,
   "metadata": {},
   "outputs": [],
   "source": [
    "sc = spark.sparkContext"
   ]
  },
  {
   "cell_type": "markdown",
   "metadata": {},
   "source": [
    "# 讀取 after-hdfs.txt "
   ]
  },
  {
   "cell_type": "code",
   "execution_count": 4,
   "metadata": {},
   "outputs": [],
   "source": [
    "f = open(\"/home/jovyan/dataset/after-hdfs.txt\", \"r\")\n",
    "text= f.read()"
   ]
  },
  {
   "cell_type": "code",
   "execution_count": 5,
   "metadata": {},
   "outputs": [],
   "source": [
    "text = text.replace('TEXT','')"
   ]
  },
  {
   "cell_type": "markdown",
   "metadata": {},
   "source": [
    "# 需轉換成 RDD 才能進行 pyspark 操作"
   ]
  },
  {
   "cell_type": "code",
   "execution_count": 6,
   "metadata": {},
   "outputs": [],
   "source": [
    "text_rdd = sc.parallelize([text])"
   ]
  },
  {
   "cell_type": "code",
   "execution_count": 7,
   "metadata": {},
   "outputs": [
    {
     "data": {
      "text/plain": [
       "pyspark.rdd.RDD"
      ]
     },
     "execution_count": 7,
     "metadata": {},
     "output_type": "execute_result"
    }
   ],
   "source": [
    "type(text_rdd)"
   ]
  },
  {
   "cell_type": "code",
   "execution_count": 8,
   "metadata": {},
   "outputs": [],
   "source": [
    "counts = text_rdd.flatMap(lambda line: line.split(\" \")).map(lambda word: (word, 1)).reduceByKey(lambda a, b: a + b)\n"
   ]
  },
  {
   "cell_type": "code",
   "execution_count": 9,
   "metadata": {},
   "outputs": [
    {
     "data": {
      "text/plain": [
       "[('', 1),\n",
       " ('\"\":', 3),\n",
       " ('\"Beijing', 1),\n",
       " ('unveiled', 1),\n",
       " ('a', 6),\n",
       " ('target', 1),\n",
       " ('of', 8),\n",
       " ('7.5', 1),\n",
       " ('percent', 1),\n",
       " ('rise', 1),\n",
       " ('in', 3),\n",
       " ('defense', 1),\n",
       " ('spending', 2),\n",
       " ('for', 1),\n",
       " ('this', 1),\n",
       " ('year,', 1),\n",
       " ('slower', 1),\n",
       " ('rate', 1),\n",
       " ('than', 1),\n",
       " ('last', 1),\n",
       " ('year', 1),\n",
       " ('but', 1),\n",
       " ('still', 1),\n",
       " ('outpacing', 1),\n",
       " ('China\"s', 1),\n",
       " ('economic', 1),\n",
       " ('growth', 1),\n",
       " ('target.President', 1),\n",
       " ('Xi', 1),\n",
       " ('Jinping', 1),\n",
       " ('is', 1),\n",
       " ('overseeing', 1),\n",
       " ('sweeping', 1),\n",
       " ('plan', 1),\n",
       " ('to', 7),\n",
       " ('refurbish', 1),\n",
       " ('the', 10),\n",
       " ('People\"s', 1),\n",
       " ('Liberation', 1),\n",
       " ('Army', 1),\n",
       " ('by', 1),\n",
       " ('developing', 1),\n",
       " ('everything', 1),\n",
       " ('from', 5),\n",
       " ('stealth', 1),\n",
       " ('jets', 1),\n",
       " ('aircraft', 1),\n",
       " ('carriers', 1),\n",
       " ('as', 2),\n",
       " ('China', 2),\n",
       " ('ramps', 1),\n",
       " ('up', 1),\n",
       " ('its', 2),\n",
       " ('presence', 1),\n",
       " ('South', 1),\n",
       " ('Sea', 1),\n",
       " ('and', 4),\n",
       " ('around', 1),\n",
       " ('self-ruled', 1),\n",
       " ('Taiwan.China', 1),\n",
       " ('has', 1),\n",
       " ('frequently', 1),\n",
       " ('had', 1),\n",
       " ('rebuff', 1),\n",
       " ('concerns', 1),\n",
       " ('about', 1),\n",
       " ('military', 2),\n",
       " ('intentions,', 1),\n",
       " ('especially', 1),\n",
       " ('continues', 1),\n",
       " ('scale', 1),\n",
       " ('new', 2),\n",
       " ('heights.\"\\n', 1),\n",
       " ('\"The', 1),\n",
       " ('New', 3),\n",
       " ('York', 2),\n",
       " ('Times', 3),\n",
       " ('reported', 1),\n",
       " ('on', 2),\n",
       " ('Saturday', 1),\n",
       " ('that', 2),\n",
       " ('newspaper\"s', 1),\n",
       " ('investigation', 1),\n",
       " ('Boeing', 1),\n",
       " ('plant', 1),\n",
       " ('\"reveals', 1),\n",
       " ('culture', 1),\n",
       " ('often', 1),\n",
       " ('valued', 1),\n",
       " ('production', 1),\n",
       " ('speed', 1),\n",
       " ('over', 2),\n",
       " ('quality.\"The', 1),\n",
       " ('said', 3),\n",
       " ('it', 1),\n",
       " ('reviewed', 1),\n",
       " ('\"hundreds', 1),\n",
       " ('pages', 1),\n",
       " ('internal', 1),\n",
       " ('emails,', 1),\n",
       " ('corporate', 1),\n",
       " ('documents', 1),\n",
       " ('federal', 2),\n",
       " ('records.\"Boeing', 1),\n",
       " ('workers', 1),\n",
       " ('have', 2),\n",
       " ('filed', 1),\n",
       " ('numerous', 1),\n",
       " ('safety', 1),\n",
       " ('complaints', 1),\n",
       " ('with', 1),\n",
       " ('government', 1),\n",
       " ('issues', 1),\n",
       " ('ranging', 2),\n",
       " ('shoddy', 1),\n",
       " ('manufacturing', 1),\n",
       " ('practices', 1),\n",
       " ('tools', 1),\n",
       " ('debris', 1),\n",
       " ('being', 1),\n",
       " ('left', 1),\n",
       " ('planes,', 1),\n",
       " ('The', 1),\n",
       " ('reports.\"\\n', 1),\n",
       " ('\"Mastercard', 1),\n",
       " ('CMO', 1),\n",
       " ('Raja', 1),\n",
       " ('Rajamannar,', 1),\n",
       " ('president', 1),\n",
       " ('World', 1),\n",
       " ('Federation', 1),\n",
       " ('Advertisers,', 1),\n",
       " ('he', 1),\n",
       " ('wants', 1),\n",
       " ('see', 1),\n",
       " ('\"game', 1),\n",
       " ('plan\"', 1),\n",
       " ('social', 1),\n",
       " ('media', 1),\n",
       " ('platforms.Facebook,', 1),\n",
       " ('Instagram', 1),\n",
       " ('YouTube', 1),\n",
       " ('been', 1),\n",
       " ('under', 1),\n",
       " ('fire', 1),\n",
       " ('after', 1),\n",
       " ('displaying', 1),\n",
       " ('content', 1),\n",
       " ('self-harm', 1),\n",
       " ('live-streaming', 1),\n",
       " ('terrorist', 1),\n",
       " ('attack', 1),\n",
       " ('Christchurch,', 1),\n",
       " ('Zealand.Since', 1),\n",
       " ('platforms', 1),\n",
       " ('receive', 1),\n",
       " ('so', 1),\n",
       " ('much', 1),\n",
       " ('revenue', 1),\n",
       " ('advertising,', 1),\n",
       " ('\"They', 1),\n",
       " ('cannot', 1),\n",
       " ('completely', 1),\n",
       " ('ignore', 1),\n",
       " ('rightful', 1),\n",
       " ('preferences', 1),\n",
       " ('advertisers,\"', 1),\n",
       " ('Rajamannar.\"\\n', 1)]"
      ]
     },
     "execution_count": 9,
     "metadata": {},
     "output_type": "execute_result"
    }
   ],
   "source": [
    "counts.collect()"
   ]
  },
  {
   "cell_type": "code",
   "execution_count": 11,
   "metadata": {},
   "outputs": [],
   "source": [
    "counts.saveAsTextFile('/home/jovyan/dataset/after-wc-hdfs')"
   ]
  },
  {
   "cell_type": "code",
   "execution_count": 12,
   "metadata": {},
   "outputs": [
    {
     "name": "stdout",
     "output_type": "stream",
     "text": [
      "\u001b[0m\u001b[01;34mafter-wc-hdfs\u001b[0m/    \u001b[01;34miii\u001b[0m/                        \u001b[01;32msam.txt\u001b[0m*\r\n",
      "\u001b[01;32mbezdekIris.data\u001b[0m*  \u001b[34;42mml-recommandation-model\u001b[0m/    \u001b[01;32mtest.data\u001b[0m*\r\n",
      "\u001b[01;32mdiabetes.csv\u001b[0m*     \u001b[01;34mparquet\u001b[0m/                    \u001b[01;32mu.data\u001b[0m*\r\n",
      "hdfs.txt          \u001b[01;32mpyspark-dataframe-sql.csv\u001b[0m*\r\n"
     ]
    }
   ],
   "source": [
    "ls /home/jovyan/dataset/"
   ]
  },
  {
   "cell_type": "code",
   "execution_count": null,
   "metadata": {},
   "outputs": [],
   "source": []
  }
 ],
 "metadata": {
  "kernelspec": {
   "display_name": "Python 3",
   "language": "python",
   "name": "python3"
  },
  "language_info": {
   "codemirror_mode": {
    "name": "ipython",
    "version": 3
   },
   "file_extension": ".py",
   "mimetype": "text/x-python",
   "name": "python",
   "nbconvert_exporter": "python",
   "pygments_lexer": "ipython3",
   "version": "3.7.3"
  }
 },
 "nbformat": 4,
 "nbformat_minor": 2
}

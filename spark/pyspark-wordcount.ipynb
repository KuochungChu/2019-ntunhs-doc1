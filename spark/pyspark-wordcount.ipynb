{
 "cells": [
  {
   "attachments": {},
   "cell_type": "markdown",
   "metadata": {},
   "source": [
    "# 此練習是接續 pyspark-read-hdfs.ipynb"
   ]
  },
  {
   "cell_type": "code",
   "execution_count": 1,
   "metadata": {},
   "outputs": [],
   "source": [
    "from pyspark.sql import SparkSession "
   ]
  },
  {
   "cell_type": "code",
   "execution_count": 2,
   "metadata": {},
   "outputs": [
    {
     "data": {
      "text/html": [
       "\n",
       "        <div>\n",
       "            <p><b>SparkContext</b></p>\n",
       "\n",
       "            <p><a href=\"http://0c73c3f0544e:4040\">Spark UI</a></p>\n",
       "\n",
       "            <dl>\n",
       "              <dt>Version</dt>\n",
       "                <dd><code>v2.4.1</code></dd>\n",
       "              <dt>Master</dt>\n",
       "                <dd><code>local</code></dd>\n",
       "              <dt>AppName</dt>\n",
       "                <dd><code>pyspark-wordcount</code></dd>\n",
       "            </dl>\n",
       "        </div>\n",
       "        "
      ],
      "text/plain": [
       "<SparkContext master=local appName=pyspark-wordcount>"
      ]
     },
     "execution_count": 2,
     "metadata": {},
     "output_type": "execute_result"
    }
   ],
   "source": [
    "spark = SparkSession.builder.master(\"local\").appName(\"pyspark-wordcount\").getOrCreate()\n",
    "spark.sparkContext"
   ]
  },
  {
   "cell_type": "code",
   "execution_count": 3,
   "metadata": {},
   "outputs": [],
   "source": [
    "sc = spark.sparkContext"
   ]
  },
  {
   "cell_type": "markdown",
   "metadata": {},
   "source": [
    "# 讀取 after-hdfs.txt "
   ]
  },
  {
   "cell_type": "code",
   "execution_count": 5,
   "metadata": {},
   "outputs": [],
   "source": [
    "f = open(\"/home/jovyan/dataset/after-hdfs.txt\", \"r\")\n",
    "text= f.read()"
   ]
  },
  {
   "cell_type": "code",
   "execution_count": 7,
   "metadata": {},
   "outputs": [
    {
     "data": {
      "text/plain": [
       "' \"\": \"Beijing unveiled a target of 7.5 percent rise in defense spending for this year, a slower rate than last year but still outpacing China\"s economic growth target.President Xi Jinping is overseeing a sweeping plan to refurbish the People\"s Liberation Army by developing everything from stealth jets to aircraft carriers as China ramps up its presence in the South China Sea and around self-ruled Taiwan.China has frequently had to rebuff concerns about its military intentions, especially as military spending continues to scale new heights.\"\\n \"\": \"The New York Times reported on Saturday that the newspaper\"s investigation of a Boeing plant \"reveals a culture that often valued production speed over quality.\"The Times said it reviewed \"hundreds of pages of internal emails, corporate documents and federal records.\"Boeing workers have filed numerous safety complaints with the federal government over issues ranging from shoddy manufacturing practices to tools and debris being left on planes, The New York Times reports.\"\\n \"\": \"Mastercard CMO Raja Rajamannar, the new president of the World Federation of Advertisers, said he wants to see the \"game plan\" from social media platforms.Facebook, Instagram and YouTube have been under fire after displaying content ranging from self-harm to live-streaming of a terrorist attack in Christchurch, New Zealand.Since the platforms receive so much revenue from advertising, \"They cannot completely ignore the rightful preferences of the advertisers,\" said Rajamannar.\"\\n'"
      ]
     },
     "execution_count": 7,
     "metadata": {},
     "output_type": "execute_result"
    }
   ],
   "source": [
    "text = text.replace('TEXT','')\n",
    "text"
   ]
  },
  {
   "cell_type": "markdown",
   "metadata": {},
   "source": [
    "# 需轉換成 RDD 才能進行 pyspark 操作"
   ]
  },
  {
   "cell_type": "code",
   "execution_count": 8,
   "metadata": {},
   "outputs": [],
   "source": [
    "text_rdd = sc.parallelize([text])"
   ]
  },
  {
   "cell_type": "code",
   "execution_count": 9,
   "metadata": {},
   "outputs": [
    {
     "data": {
      "text/plain": [
       "pyspark.rdd.RDD"
      ]
     },
     "execution_count": 9,
     "metadata": {},
     "output_type": "execute_result"
    }
   ],
   "source": [
    "type(text_rdd)"
   ]
  },
  {
   "cell_type": "code",
   "execution_count": 10,
   "metadata": {},
   "outputs": [],
   "source": [
    "counts = text_rdd.flatMap(lambda line: line.split(\" \")).map(lambda word: (word, 1)).reduceByKey(lambda a, b: a + b)\n"
   ]
  },
  {
   "cell_type": "code",
   "execution_count": 11,
   "metadata": {
    "scrolled": true
   },
   "outputs": [
    {
     "data": {
      "text/plain": [
       "[('', 1),\n",
       " ('\"\":', 3),\n",
       " ('\"Beijing', 1),\n",
       " ('unveiled', 1),\n",
       " ('a', 6),\n",
       " ('target', 1),\n",
       " ('of', 8),\n",
       " ('7.5', 1),\n",
       " ('percent', 1),\n",
       " ('rise', 1),\n",
       " ('in', 3),\n",
       " ('defense', 1),\n",
       " ('spending', 2),\n",
       " ('for', 1),\n",
       " ('this', 1),\n",
       " ('year,', 1),\n",
       " ('slower', 1),\n",
       " ('rate', 1),\n",
       " ('than', 1),\n",
       " ('last', 1),\n",
       " ('year', 1),\n",
       " ('but', 1),\n",
       " ('still', 1),\n",
       " ('outpacing', 1),\n",
       " ('China\"s', 1),\n",
       " ('economic', 1),\n",
       " ('growth', 1),\n",
       " ('target.President', 1),\n",
       " ('Xi', 1),\n",
       " ('Jinping', 1),\n",
       " ('is', 1),\n",
       " ('overseeing', 1),\n",
       " ('sweeping', 1),\n",
       " ('plan', 1),\n",
       " ('to', 7),\n",
       " ('refurbish', 1),\n",
       " ('the', 10),\n",
       " ('People\"s', 1),\n",
       " ('Liberation', 1),\n",
       " ('Army', 1),\n",
       " ('by', 1),\n",
       " ('developing', 1),\n",
       " ('everything', 1),\n",
       " ('from', 5),\n",
       " ('stealth', 1),\n",
       " ('jets', 1),\n",
       " ('aircraft', 1),\n",
       " ('carriers', 1),\n",
       " ('as', 2),\n",
       " ('China', 2),\n",
       " ('ramps', 1),\n",
       " ('up', 1),\n",
       " ('its', 2),\n",
       " ('presence', 1),\n",
       " ('South', 1),\n",
       " ('Sea', 1),\n",
       " ('and', 4),\n",
       " ('around', 1),\n",
       " ('self-ruled', 1),\n",
       " ('Taiwan.China', 1),\n",
       " ('has', 1),\n",
       " ('frequently', 1),\n",
       " ('had', 1),\n",
       " ('rebuff', 1),\n",
       " ('concerns', 1),\n",
       " ('about', 1),\n",
       " ('military', 2),\n",
       " ('intentions,', 1),\n",
       " ('especially', 1),\n",
       " ('continues', 1),\n",
       " ('scale', 1),\n",
       " ('new', 2),\n",
       " ('heights.\"\\n', 1),\n",
       " ('\"The', 1),\n",
       " ('New', 3),\n",
       " ('York', 2),\n",
       " ('Times', 3),\n",
       " ('reported', 1),\n",
       " ('on', 2),\n",
       " ('Saturday', 1),\n",
       " ('that', 2),\n",
       " ('newspaper\"s', 1),\n",
       " ('investigation', 1),\n",
       " ('Boeing', 1),\n",
       " ('plant', 1),\n",
       " ('\"reveals', 1),\n",
       " ('culture', 1),\n",
       " ('often', 1),\n",
       " ('valued', 1),\n",
       " ('production', 1),\n",
       " ('speed', 1),\n",
       " ('over', 2),\n",
       " ('quality.\"The', 1),\n",
       " ('said', 3),\n",
       " ('it', 1),\n",
       " ('reviewed', 1),\n",
       " ('\"hundreds', 1),\n",
       " ('pages', 1),\n",
       " ('internal', 1),\n",
       " ('emails,', 1),\n",
       " ('corporate', 1),\n",
       " ('documents', 1),\n",
       " ('federal', 2),\n",
       " ('records.\"Boeing', 1),\n",
       " ('workers', 1),\n",
       " ('have', 2),\n",
       " ('filed', 1),\n",
       " ('numerous', 1),\n",
       " ('safety', 1),\n",
       " ('complaints', 1),\n",
       " ('with', 1),\n",
       " ('government', 1),\n",
       " ('issues', 1),\n",
       " ('ranging', 2),\n",
       " ('shoddy', 1),\n",
       " ('manufacturing', 1),\n",
       " ('practices', 1),\n",
       " ('tools', 1),\n",
       " ('debris', 1),\n",
       " ('being', 1),\n",
       " ('left', 1),\n",
       " ('planes,', 1),\n",
       " ('The', 1),\n",
       " ('reports.\"\\n', 1),\n",
       " ('\"Mastercard', 1),\n",
       " ('CMO', 1),\n",
       " ('Raja', 1),\n",
       " ('Rajamannar,', 1),\n",
       " ('president', 1),\n",
       " ('World', 1),\n",
       " ('Federation', 1),\n",
       " ('Advertisers,', 1),\n",
       " ('he', 1),\n",
       " ('wants', 1),\n",
       " ('see', 1),\n",
       " ('\"game', 1),\n",
       " ('plan\"', 1),\n",
       " ('social', 1),\n",
       " ('media', 1),\n",
       " ('platforms.Facebook,', 1),\n",
       " ('Instagram', 1),\n",
       " ('YouTube', 1),\n",
       " ('been', 1),\n",
       " ('under', 1),\n",
       " ('fire', 1),\n",
       " ('after', 1),\n",
       " ('displaying', 1),\n",
       " ('content', 1),\n",
       " ('self-harm', 1),\n",
       " ('live-streaming', 1),\n",
       " ('terrorist', 1),\n",
       " ('attack', 1),\n",
       " ('Christchurch,', 1),\n",
       " ('Zealand.Since', 1),\n",
       " ('platforms', 1),\n",
       " ('receive', 1),\n",
       " ('so', 1),\n",
       " ('much', 1),\n",
       " ('revenue', 1),\n",
       " ('advertising,', 1),\n",
       " ('\"They', 1),\n",
       " ('cannot', 1),\n",
       " ('completely', 1),\n",
       " ('ignore', 1),\n",
       " ('rightful', 1),\n",
       " ('preferences', 1),\n",
       " ('advertisers,\"', 1),\n",
       " ('Rajamannar.\"\\n', 1)]"
      ]
     },
     "execution_count": 11,
     "metadata": {},
     "output_type": "execute_result"
    }
   ],
   "source": [
    "counts.collect()"
   ]
  },
  {
   "cell_type": "code",
   "execution_count": 12,
   "metadata": {},
   "outputs": [],
   "source": [
    "counts.saveAsTextFile('/home/jovyan/dataset/after-wc-hdfs')"
   ]
  },
  {
   "cell_type": "code",
   "execution_count": 13,
   "metadata": {},
   "outputs": [
    {
     "name": "stdout",
     "output_type": "stream",
     "text": [
      "\u001b[0m\u001b[01;32m2015-12-12.csv\u001b[0m*   \u001b[01;32mdiabetes.csv\u001b[0m*                 \u001b[01;34miii\u001b[0m/        \u001b[01;32mu.data\u001b[0m*\r\n",
      "after-hdfs.txt    \u001b[01;32mforeachExample.txt\u001b[0m*           \u001b[01;34mparquet\u001b[0m/\r\n",
      "\u001b[01;34mafter-wc-hdfs\u001b[0m/    \u001b[01;32mforeachPartitionExample.txt\u001b[0m*  \u001b[01;32msam.txt\u001b[0m*\r\n",
      "\u001b[01;32mbezdekIris.data\u001b[0m*  hdfs.txt                      \u001b[01;32mtest.data\u001b[0m*\r\n"
     ]
    }
   ],
   "source": [
    "ls /home/jovyan/dataset/"
   ]
  },
  {
   "cell_type": "code",
   "execution_count": 14,
   "metadata": {},
   "outputs": [
    {
     "name": "stdout",
     "output_type": "stream",
     "text": [
      "('', 1)\r\n",
      "('\"\":', 3)\r\n",
      "('\"Beijing', 1)\r\n",
      "('unveiled', 1)\r\n",
      "('a', 6)\r\n",
      "('target', 1)\r\n",
      "('of', 8)\r\n",
      "('7.5', 1)\r\n",
      "('percent', 1)\r\n",
      "('rise', 1)\r\n",
      "('in', 3)\r\n",
      "('defense', 1)\r\n",
      "('spending', 2)\r\n",
      "('for', 1)\r\n",
      "('this', 1)\r\n",
      "('year,', 1)\r\n",
      "('slower', 1)\r\n",
      "('rate', 1)\r\n",
      "('than', 1)\r\n",
      "('last', 1)\r\n",
      "('year', 1)\r\n",
      "('but', 1)\r\n",
      "('still', 1)\r\n",
      "('outpacing', 1)\r\n",
      "('China\"s', 1)\r\n",
      "('economic', 1)\r\n",
      "('growth', 1)\r\n",
      "('target.President', 1)\r\n",
      "('Xi', 1)\r\n",
      "('Jinping', 1)\r\n",
      "('is', 1)\r\n",
      "('overseeing', 1)\r\n",
      "('sweeping', 1)\r\n",
      "('plan', 1)\r\n",
      "('to', 7)\r\n",
      "('refurbish', 1)\r\n",
      "('the', 10)\r\n",
      "('People\"s', 1)\r\n",
      "('Liberation', 1)\r\n",
      "('Army', 1)\r\n",
      "('by', 1)\r\n",
      "('developing', 1)\r\n",
      "('everything', 1)\r\n",
      "('from', 5)\r\n",
      "('stealth', 1)\r\n",
      "('jets', 1)\r\n",
      "('aircraft', 1)\r\n",
      "('carriers', 1)\r\n",
      "('as', 2)\r\n",
      "('China', 2)\r\n",
      "('ramps', 1)\r\n",
      "('up', 1)\r\n",
      "('its', 2)\r\n",
      "('presence', 1)\r\n",
      "('South', 1)\r\n",
      "('Sea', 1)\r\n",
      "('and', 4)\r\n",
      "('around', 1)\r\n",
      "('self-ruled', 1)\r\n",
      "('Taiwan.China', 1)\r\n",
      "('has', 1)\r\n",
      "('frequently', 1)\r\n",
      "('had', 1)\r\n",
      "('rebuff', 1)\r\n",
      "('concerns', 1)\r\n",
      "('about', 1)\r\n",
      "('military', 2)\r\n",
      "('intentions,', 1)\r\n",
      "('especially', 1)\r\n",
      "('continues', 1)\r\n",
      "('scale', 1)\r\n",
      "('new', 2)\r\n",
      "('heights.\"\\n', 1)\r\n",
      "('\"The', 1)\r\n",
      "('New', 3)\r\n",
      "('York', 2)\r\n",
      "('Times', 3)\r\n",
      "('reported', 1)\r\n",
      "('on', 2)\r\n",
      "('Saturday', 1)\r\n",
      "('that', 2)\r\n",
      "('newspaper\"s', 1)\r\n",
      "('investigation', 1)\r\n",
      "('Boeing', 1)\r\n",
      "('plant', 1)\r\n",
      "('\"reveals', 1)\r\n",
      "('culture', 1)\r\n",
      "('often', 1)\r\n",
      "('valued', 1)\r\n",
      "('production', 1)\r\n",
      "('speed', 1)\r\n",
      "('over', 2)\r\n",
      "('quality.\"The', 1)\r\n",
      "('said', 3)\r\n",
      "('it', 1)\r\n",
      "('reviewed', 1)\r\n",
      "('\"hundreds', 1)\r\n",
      "('pages', 1)\r\n",
      "('internal', 1)\r\n",
      "('emails,', 1)\r\n",
      "('corporate', 1)\r\n",
      "('documents', 1)\r\n",
      "('federal', 2)\r\n",
      "('records.\"Boeing', 1)\r\n",
      "('workers', 1)\r\n",
      "('have', 2)\r\n",
      "('filed', 1)\r\n",
      "('numerous', 1)\r\n",
      "('safety', 1)\r\n",
      "('complaints', 1)\r\n",
      "('with', 1)\r\n",
      "('government', 1)\r\n",
      "('issues', 1)\r\n",
      "('ranging', 2)\r\n",
      "('shoddy', 1)\r\n",
      "('manufacturing', 1)\r\n",
      "('practices', 1)\r\n",
      "('tools', 1)\r\n",
      "('debris', 1)\r\n",
      "('being', 1)\r\n",
      "('left', 1)\r\n",
      "('planes,', 1)\r\n",
      "('The', 1)\r\n",
      "('reports.\"\\n', 1)\r\n",
      "('\"Mastercard', 1)\r\n",
      "('CMO', 1)\r\n",
      "('Raja', 1)\r\n",
      "('Rajamannar,', 1)\r\n",
      "('president', 1)\r\n",
      "('World', 1)\r\n",
      "('Federation', 1)\r\n",
      "('Advertisers,', 1)\r\n",
      "('he', 1)\r\n",
      "('wants', 1)\r\n",
      "('see', 1)\r\n",
      "('\"game', 1)\r\n",
      "('plan\"', 1)\r\n",
      "('social', 1)\r\n",
      "('media', 1)\r\n",
      "('platforms.Facebook,', 1)\r\n",
      "('Instagram', 1)\r\n",
      "('YouTube', 1)\r\n",
      "('been', 1)\r\n",
      "('under', 1)\r\n",
      "('fire', 1)\r\n",
      "('after', 1)\r\n",
      "('displaying', 1)\r\n",
      "('content', 1)\r\n",
      "('self-harm', 1)\r\n",
      "('live-streaming', 1)\r\n",
      "('terrorist', 1)\r\n",
      "('attack', 1)\r\n",
      "('Christchurch,', 1)\r\n",
      "('Zealand.Since', 1)\r\n",
      "('platforms', 1)\r\n",
      "('receive', 1)\r\n",
      "('so', 1)\r\n",
      "('much', 1)\r\n",
      "('revenue', 1)\r\n",
      "('advertising,', 1)\r\n",
      "('\"They', 1)\r\n",
      "('cannot', 1)\r\n",
      "('completely', 1)\r\n",
      "('ignore', 1)\r\n",
      "('rightful', 1)\r\n",
      "('preferences', 1)\r\n",
      "('advertisers,\"', 1)\r\n",
      "('Rajamannar.\"\\n', 1)\r\n"
     ]
    }
   ],
   "source": [
    "cat /home/jovyan/dataset/after-wc-hdfs/*"
   ]
  },
  {
   "cell_type": "code",
   "execution_count": 15,
   "metadata": {},
   "outputs": [],
   "source": [
    "sc.stop()"
   ]
  },
  {
   "cell_type": "code",
   "execution_count": null,
   "metadata": {},
   "outputs": [],
   "source": []
  }
 ],
 "metadata": {
  "kernelspec": {
   "display_name": "Python 3",
   "language": "python",
   "name": "python3"
  },
  "language_info": {
   "codemirror_mode": {
    "name": "ipython",
    "version": 3
   },
   "file_extension": ".py",
   "mimetype": "text/x-python",
   "name": "python",
   "nbconvert_exporter": "python",
   "pygments_lexer": "ipython3",
   "version": "3.7.3"
  }
 },
 "nbformat": 4,
 "nbformat_minor": 2
}

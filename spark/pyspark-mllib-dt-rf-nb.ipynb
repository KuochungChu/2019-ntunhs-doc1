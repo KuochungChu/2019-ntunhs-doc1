{
 "cells": [
  {
   "cell_type": "code",
   "execution_count": 1,
   "metadata": {},
   "outputs": [],
   "source": [
    "from pyspark.sql import SparkSession "
   ]
  },
  {
   "cell_type": "code",
   "execution_count": 2,
   "metadata": {},
   "outputs": [
    {
     "data": {
      "text/html": [
       "\n",
       "        <div>\n",
       "            <p><b>SparkContext</b></p>\n",
       "\n",
       "            <p><a href=\"http://c84d41fcd832:4040\">Spark UI</a></p>\n",
       "\n",
       "            <dl>\n",
       "              <dt>Version</dt>\n",
       "                <dd><code>v2.4.2</code></dd>\n",
       "              <dt>Master</dt>\n",
       "                <dd><code>local</code></dd>\n",
       "              <dt>AppName</dt>\n",
       "                <dd><code>pyspark-command-1</code></dd>\n",
       "            </dl>\n",
       "        </div>\n",
       "        "
      ],
      "text/plain": [
       "<SparkContext master=local appName=pyspark-command-1>"
      ]
     },
     "execution_count": 2,
     "metadata": {},
     "output_type": "execute_result"
    }
   ],
   "source": [
    "spark = SparkSession.builder.master(\"local\").appName(\"pyspark-command-1\").getOrCreate()\n",
    "spark.sparkContext"
   ]
  },
  {
   "cell_type": "code",
   "execution_count": 3,
   "metadata": {},
   "outputs": [],
   "source": [
    "df = spark.read.csv(\"/home/jovyan/dataset/bezdekIris.data\", inferSchema=True)\\\n",
    ".toDF(\"sep_len\", \"sep_wid\", \"pet_len\", \"pet_wid\", \"label\")"
   ]
  },
  {
   "cell_type": "code",
   "execution_count": 4,
   "metadata": {},
   "outputs": [
    {
     "name": "stdout",
     "output_type": "stream",
     "text": [
      "+-------+-------+-------+-------+-----------+\n",
      "|sep_len|sep_wid|pet_len|pet_wid|      label|\n",
      "+-------+-------+-------+-------+-----------+\n",
      "|    5.1|    3.5|    1.4|    0.2|Iris-setosa|\n",
      "|    4.9|    3.0|    1.4|    0.2|Iris-setosa|\n",
      "|    4.7|    3.2|    1.3|    0.2|Iris-setosa|\n",
      "|    4.6|    3.1|    1.5|    0.2|Iris-setosa|\n",
      "|    5.0|    3.6|    1.4|    0.2|Iris-setosa|\n",
      "|    5.4|    3.9|    1.7|    0.4|Iris-setosa|\n",
      "|    4.6|    3.4|    1.4|    0.3|Iris-setosa|\n",
      "|    5.0|    3.4|    1.5|    0.2|Iris-setosa|\n",
      "|    4.4|    2.9|    1.4|    0.2|Iris-setosa|\n",
      "|    4.9|    3.1|    1.5|    0.1|Iris-setosa|\n",
      "|    5.4|    3.7|    1.5|    0.2|Iris-setosa|\n",
      "|    4.8|    3.4|    1.6|    0.2|Iris-setosa|\n",
      "|    4.8|    3.0|    1.4|    0.1|Iris-setosa|\n",
      "|    4.3|    3.0|    1.1|    0.1|Iris-setosa|\n",
      "|    5.8|    4.0|    1.2|    0.2|Iris-setosa|\n",
      "|    5.7|    4.4|    1.5|    0.4|Iris-setosa|\n",
      "|    5.4|    3.9|    1.3|    0.4|Iris-setosa|\n",
      "|    5.1|    3.5|    1.4|    0.3|Iris-setosa|\n",
      "|    5.7|    3.8|    1.7|    0.3|Iris-setosa|\n",
      "|    5.1|    3.8|    1.5|    0.3|Iris-setosa|\n",
      "+-------+-------+-------+-------+-----------+\n",
      "only showing top 20 rows\n",
      "\n"
     ]
    }
   ],
   "source": [
    "df.show()"
   ]
  },
  {
   "cell_type": "code",
   "execution_count": 5,
   "metadata": {},
   "outputs": [],
   "source": [
    "#We have to perform some transformations to join all feature columns into a single column using VectorAssembler\n",
    "from pyspark.ml.linalg import Vectors\n",
    "from pyspark.ml.feature import VectorAssembler"
   ]
  },
  {
   "cell_type": "code",
   "execution_count": 6,
   "metadata": {},
   "outputs": [
    {
     "name": "stdout",
     "output_type": "stream",
     "text": [
      "+-------+-------+-------+-------+-----------+-----------------+\n",
      "|sep_len|sep_wid|pet_len|pet_wid|      label|         features|\n",
      "+-------+-------+-------+-------+-----------+-----------------+\n",
      "|    5.1|    3.5|    1.4|    0.2|Iris-setosa|[5.1,3.5,1.4,0.2]|\n",
      "|    4.9|    3.0|    1.4|    0.2|Iris-setosa|[4.9,3.0,1.4,0.2]|\n",
      "|    4.7|    3.2|    1.3|    0.2|Iris-setosa|[4.7,3.2,1.3,0.2]|\n",
      "|    4.6|    3.1|    1.5|    0.2|Iris-setosa|[4.6,3.1,1.5,0.2]|\n",
      "|    5.0|    3.6|    1.4|    0.2|Iris-setosa|[5.0,3.6,1.4,0.2]|\n",
      "|    5.4|    3.9|    1.7|    0.4|Iris-setosa|[5.4,3.9,1.7,0.4]|\n",
      "|    4.6|    3.4|    1.4|    0.3|Iris-setosa|[4.6,3.4,1.4,0.3]|\n",
      "|    5.0|    3.4|    1.5|    0.2|Iris-setosa|[5.0,3.4,1.5,0.2]|\n",
      "|    4.4|    2.9|    1.4|    0.2|Iris-setosa|[4.4,2.9,1.4,0.2]|\n",
      "|    4.9|    3.1|    1.5|    0.1|Iris-setosa|[4.9,3.1,1.5,0.1]|\n",
      "|    5.4|    3.7|    1.5|    0.2|Iris-setosa|[5.4,3.7,1.5,0.2]|\n",
      "|    4.8|    3.4|    1.6|    0.2|Iris-setosa|[4.8,3.4,1.6,0.2]|\n",
      "|    4.8|    3.0|    1.4|    0.1|Iris-setosa|[4.8,3.0,1.4,0.1]|\n",
      "|    4.3|    3.0|    1.1|    0.1|Iris-setosa|[4.3,3.0,1.1,0.1]|\n",
      "|    5.8|    4.0|    1.2|    0.2|Iris-setosa|[5.8,4.0,1.2,0.2]|\n",
      "|    5.7|    4.4|    1.5|    0.4|Iris-setosa|[5.7,4.4,1.5,0.4]|\n",
      "|    5.4|    3.9|    1.3|    0.4|Iris-setosa|[5.4,3.9,1.3,0.4]|\n",
      "|    5.1|    3.5|    1.4|    0.3|Iris-setosa|[5.1,3.5,1.4,0.3]|\n",
      "|    5.7|    3.8|    1.7|    0.3|Iris-setosa|[5.7,3.8,1.7,0.3]|\n",
      "|    5.1|    3.8|    1.5|    0.3|Iris-setosa|[5.1,3.8,1.5,0.3]|\n",
      "+-------+-------+-------+-------+-----------+-----------------+\n",
      "only showing top 20 rows\n",
      "\n"
     ]
    }
   ],
   "source": [
    "#To transform 4 features columns into one column with features vector\n",
    "vector_assembler=VectorAssembler(inputCols=[\"sep_len\",\"sep_wid\",\"pet_len\",\"pet_wid\"], outputCol=\"features\")\n",
    "df_temp=vector_assembler.transform(df)\n",
    "df_temp.show()"
   ]
  },
  {
   "cell_type": "code",
   "execution_count": 7,
   "metadata": {},
   "outputs": [
    {
     "name": "stdout",
     "output_type": "stream",
     "text": [
      "+-----------+-----------------+\n",
      "|      label|         features|\n",
      "+-----------+-----------------+\n",
      "|Iris-setosa|[5.1,3.5,1.4,0.2]|\n",
      "|Iris-setosa|[4.9,3.0,1.4,0.2]|\n",
      "|Iris-setosa|[4.7,3.2,1.3,0.2]|\n",
      "+-----------+-----------------+\n",
      "only showing top 3 rows\n",
      "\n"
     ]
    }
   ],
   "source": [
    "# remove unnecessary columns\n",
    "df=df_temp.drop('sep_len', 'sep_wid', 'pet_len', 'pet_wid')\n",
    "df.show(3)"
   ]
  },
  {
   "cell_type": "code",
   "execution_count": 8,
   "metadata": {},
   "outputs": [],
   "source": [
    "from pyspark.ml.feature import StringIndexer"
   ]
  },
  {
   "cell_type": "code",
   "execution_count": 9,
   "metadata": {
    "scrolled": true
   },
   "outputs": [],
   "source": [
    "# 需要index目標欄位\n",
    "l_indexer = StringIndexer(inputCol=\"label\", outputCol=\"labelIndex\")\n",
    "df=l_indexer.fit(df).transform(df)"
   ]
  },
  {
   "cell_type": "code",
   "execution_count": 11,
   "metadata": {},
   "outputs": [
    {
     "name": "stdout",
     "output_type": "stream",
     "text": [
      "+-----------+-----------------+----------+\n",
      "|      label|         features|labelIndex|\n",
      "+-----------+-----------------+----------+\n",
      "|Iris-setosa|[5.1,3.5,1.4,0.2]|       0.0|\n",
      "|Iris-setosa|[4.9,3.0,1.4,0.2]|       0.0|\n",
      "|Iris-setosa|[4.7,3.2,1.3,0.2]|       0.0|\n",
      "|Iris-setosa|[4.6,3.1,1.5,0.2]|       0.0|\n",
      "|Iris-setosa|[5.0,3.6,1.4,0.2]|       0.0|\n",
      "|Iris-setosa|[5.4,3.9,1.7,0.4]|       0.0|\n",
      "|Iris-setosa|[4.6,3.4,1.4,0.3]|       0.0|\n",
      "|Iris-setosa|[5.0,3.4,1.5,0.2]|       0.0|\n",
      "|Iris-setosa|[4.4,2.9,1.4,0.2]|       0.0|\n",
      "|Iris-setosa|[4.9,3.1,1.5,0.1]|       0.0|\n",
      "+-----------+-----------------+----------+\n",
      "only showing top 10 rows\n",
      "\n"
     ]
    }
   ],
   "source": [
    "df.show(10)"
   ]
  },
  {
   "cell_type": "code",
   "execution_count": 12,
   "metadata": {},
   "outputs": [],
   "source": [
    "# divide our data into training and test sets (30% held out for testing)\n",
    "(trainingData, testData) = df.randomSplit([0.7, 0.3])"
   ]
  },
  {
   "cell_type": "markdown",
   "metadata": {},
   "source": [
    "# Decision tree classifier"
   ]
  },
  {
   "cell_type": "code",
   "execution_count": 13,
   "metadata": {},
   "outputs": [],
   "source": [
    "from pyspark.ml.classification import DecisionTreeClassifier\n",
    "from pyspark.ml.evaluation import MulticlassClassificationEvaluator"
   ]
  },
  {
   "cell_type": "code",
   "execution_count": 14,
   "metadata": {},
   "outputs": [],
   "source": [
    "#train a DecisionTree model\n",
    "dt=DecisionTreeClassifier(labelCol='labelIndex', featuresCol=\"features\")\n",
    "model=dt.fit(trainingData)\n",
    "predictions=model.transform(testData)"
   ]
  },
  {
   "cell_type": "code",
   "execution_count": 15,
   "metadata": {},
   "outputs": [],
   "source": [
    "predictions = model.transform(testData)"
   ]
  },
  {
   "cell_type": "code",
   "execution_count": 16,
   "metadata": {},
   "outputs": [
    {
     "name": "stdout",
     "output_type": "stream",
     "text": [
      "+----------+----------+\n",
      "|prediction|labelIndex|\n",
      "+----------+----------+\n",
      "|       0.0|       0.0|\n",
      "|       0.0|       0.0|\n",
      "|       0.0|       0.0|\n",
      "|       0.0|       0.0|\n",
      "|       0.0|       0.0|\n",
      "+----------+----------+\n",
      "only showing top 5 rows\n",
      "\n"
     ]
    }
   ],
   "source": [
    "predictions.select(\"prediction\", \"labelIndex\").show(5)"
   ]
  },
  {
   "cell_type": "code",
   "execution_count": 17,
   "metadata": {},
   "outputs": [],
   "source": [
    "# estimate the accuracy of the prediction\n",
    "evaluator=MulticlassClassificationEvaluator(labelCol=\"labelIndex\", predictionCol=\"prediction\", metricName=\"accuracy\")"
   ]
  },
  {
   "cell_type": "code",
   "execution_count": 18,
   "metadata": {},
   "outputs": [
    {
     "name": "stdout",
     "output_type": "stream",
     "text": [
      "Test set accuracy=0.9767441860465116\n"
     ]
    }
   ],
   "source": [
    "accuracy=evaluator.evaluate(predictions)\n",
    "print(\"Test set accuracy={}\".format(str(accuracy)))"
   ]
  },
  {
   "cell_type": "code",
   "execution_count": 19,
   "metadata": {},
   "outputs": [
    {
     "name": "stdout",
     "output_type": "stream",
     "text": [
      "Test error=0.0232558\n"
     ]
    }
   ],
   "source": [
    "print(\"Test error=%g\" % (1.0-accuracy))"
   ]
  },
  {
   "cell_type": "code",
   "execution_count": 20,
   "metadata": {},
   "outputs": [
    {
     "name": "stdout",
     "output_type": "stream",
     "text": [
      "DecisionTreeClassificationModel (uid=DecisionTreeClassifier_c99491df28e8) of depth 5 with 15 nodes\n"
     ]
    }
   ],
   "source": [
    "print(model)"
   ]
  },
  {
   "cell_type": "markdown",
   "metadata": {},
   "source": [
    "# Naive Bayes classifier"
   ]
  },
  {
   "cell_type": "code",
   "execution_count": 21,
   "metadata": {},
   "outputs": [],
   "source": [
    "splits=df.randomSplit([0.6, 0.4], 1234)\n",
    "train=splits[0]\n",
    "test=splits[1]"
   ]
  },
  {
   "cell_type": "code",
   "execution_count": 22,
   "metadata": {},
   "outputs": [],
   "source": [
    "from pyspark.ml.classification import NaiveBayes"
   ]
  },
  {
   "cell_type": "code",
   "execution_count": 23,
   "metadata": {},
   "outputs": [],
   "source": [
    "nb=NaiveBayes(labelCol=\"labelIndex\", featuresCol=\"features\", smoothing=1.0, modelType=\"multinomial\")"
   ]
  },
  {
   "cell_type": "code",
   "execution_count": 24,
   "metadata": {},
   "outputs": [],
   "source": [
    "model=nb.fit(train)"
   ]
  },
  {
   "cell_type": "code",
   "execution_count": 25,
   "metadata": {},
   "outputs": [
    {
     "name": "stdout",
     "output_type": "stream",
     "text": [
      "+---------------+----------+--------------------+----------+\n",
      "|          label|labelIndex|         probability|prediction|\n",
      "+---------------+----------+--------------------+----------+\n",
      "|    Iris-setosa|       0.0|[0.72723788653438...|       0.0|\n",
      "|    Iris-setosa|       0.0|[0.64170595827692...|       0.0|\n",
      "|    Iris-setosa|       0.0|[0.67184222484015...|       0.0|\n",
      "|    Iris-setosa|       0.0|[0.68647236934182...|       0.0|\n",
      "|    Iris-setosa|       0.0|[0.79151826954673...|       0.0|\n",
      "|    Iris-setosa|       0.0|[0.66189579367600...|       0.0|\n",
      "|    Iris-setosa|       0.0|[0.65307352257988...|       0.0|\n",
      "|    Iris-setosa|       0.0|[0.73045962362363...|       0.0|\n",
      "|    Iris-setosa|       0.0|[0.59100133493054...|       0.0|\n",
      "|    Iris-setosa|       0.0|[0.75334864217418...|       0.0|\n",
      "|    Iris-setosa|       0.0|[0.71961717211598...|       0.0|\n",
      "|    Iris-setosa|       0.0|[0.70085626812960...|       0.0|\n",
      "|    Iris-setosa|       0.0|[0.75135089290995...|       0.0|\n",
      "|    Iris-setosa|       0.0|[0.81917691849121...|       0.0|\n",
      "|    Iris-setosa|       0.0|[0.70167417823247...|       0.0|\n",
      "|    Iris-setosa|       0.0|[0.70693654712612...|       0.0|\n",
      "|    Iris-setosa|       0.0|[0.77399109802077...|       0.0|\n",
      "|    Iris-setosa|       0.0|[0.73417003725876...|       0.0|\n",
      "|Iris-versicolor|       1.0|[0.10256421525027...|       1.0|\n",
      "|Iris-versicolor|       1.0|[0.07454754951196...|       1.0|\n",
      "+---------------+----------+--------------------+----------+\n",
      "only showing top 20 rows\n",
      "\n"
     ]
    }
   ],
   "source": [
    "predictions=model.transform(test)\n",
    "predictions.select(\"label\", \"labelIndex\", \"probability\", \"prediction\").show()"
   ]
  },
  {
   "cell_type": "code",
   "execution_count": 26,
   "metadata": {},
   "outputs": [],
   "source": [
    "# evaluate this classifier, let’s compute the accuracy on the test set\n",
    "evaluator=MulticlassClassificationEvaluator(labelCol=\"labelIndex\", predictionCol=\"prediction\", metricName=\"accuracy\")"
   ]
  },
  {
   "cell_type": "code",
   "execution_count": 27,
   "metadata": {},
   "outputs": [
    {
     "name": "stdout",
     "output_type": "stream",
     "text": [
      "Test set accuracy=0.8235294117647058\n"
     ]
    }
   ],
   "source": [
    "accuracy=evaluator.evaluate(predictions)\n",
    "print(\"Test set accuracy={}\".format(str(accuracy)))"
   ]
  },
  {
   "cell_type": "markdown",
   "metadata": {},
   "source": [
    "# Random forest classifier"
   ]
  },
  {
   "cell_type": "code",
   "execution_count": 28,
   "metadata": {},
   "outputs": [],
   "source": [
    "from pyspark.ml.classification import RandomForestClassifier"
   ]
  },
  {
   "cell_type": "code",
   "execution_count": 29,
   "metadata": {},
   "outputs": [],
   "source": [
    "rf=RandomForestClassifier(labelCol=\"labelIndex\", featuresCol=\"features\", numTrees=10)\n",
    "model=rf.fit(trainingData)"
   ]
  },
  {
   "cell_type": "code",
   "execution_count": 30,
   "metadata": {},
   "outputs": [
    {
     "name": "stdout",
     "output_type": "stream",
     "text": [
      "+----------+----------+\n",
      "|prediction|labelIndex|\n",
      "+----------+----------+\n",
      "|       0.0|       0.0|\n",
      "|       0.0|       0.0|\n",
      "|       0.0|       0.0|\n",
      "|       0.0|       0.0|\n",
      "|       0.0|       0.0|\n",
      "+----------+----------+\n",
      "only showing top 5 rows\n",
      "\n"
     ]
    }
   ],
   "source": [
    "predictions.select(\"prediction\", \"labelIndex\").show(5)"
   ]
  },
  {
   "cell_type": "code",
   "execution_count": 31,
   "metadata": {},
   "outputs": [],
   "source": [
    "evaluator=MulticlassClassificationEvaluator(labelCol=\"labelIndex\", predictionCol=\"prediction\", metricName=\"accuracy\")"
   ]
  },
  {
   "cell_type": "code",
   "execution_count": 32,
   "metadata": {},
   "outputs": [],
   "source": [
    "accuracy=evaluator.evaluate(predictions)"
   ]
  },
  {
   "cell_type": "code",
   "execution_count": 33,
   "metadata": {},
   "outputs": [
    {
     "name": "stdout",
     "output_type": "stream",
     "text": [
      "Test Error = 0.176471\n"
     ]
    }
   ],
   "source": [
    "print(\"Test Error = %g\" % (1.0-accuracy))"
   ]
  },
  {
   "cell_type": "code",
   "execution_count": 34,
   "metadata": {},
   "outputs": [
    {
     "name": "stdout",
     "output_type": "stream",
     "text": [
      "RandomForestClassificationModel (uid=RandomForestClassifier_4843d2b526ed) with 10 trees\n"
     ]
    }
   ],
   "source": [
    "print(model)"
   ]
  },
  {
   "cell_type": "code",
   "execution_count": 36,
   "metadata": {},
   "outputs": [],
   "source": [
    "spark.stop()"
   ]
  },
  {
   "cell_type": "code",
   "execution_count": null,
   "metadata": {},
   "outputs": [],
   "source": []
  }
 ],
 "metadata": {
  "kernelspec": {
   "display_name": "Python 3",
   "language": "python",
   "name": "python3"
  },
  "language_info": {
   "codemirror_mode": {
    "name": "ipython",
    "version": 3
   },
   "file_extension": ".py",
   "mimetype": "text/x-python",
   "name": "python",
   "nbconvert_exporter": "python",
   "pygments_lexer": "ipython3",
   "version": "3.7.3"
  }
 },
 "nbformat": 4,
 "nbformat_minor": 2
}

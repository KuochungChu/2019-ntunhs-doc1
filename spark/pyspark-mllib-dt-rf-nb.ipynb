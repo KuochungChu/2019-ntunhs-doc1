{
 "cells": [
  {
   "cell_type": "code",
   "execution_count": 1,
   "metadata": {},
   "outputs": [],
   "source": [
    "from pyspark.sql import SparkSession "
   ]
  },
  {
   "cell_type": "code",
   "execution_count": 3,
   "metadata": {},
   "outputs": [
    {
     "data": {
      "text/html": [
       "\n",
       "        <div>\n",
       "            <p><b>SparkContext</b></p>\n",
       "\n",
       "            <p><a href=\"http://0c73c3f0544e:4041\">Spark UI</a></p>\n",
       "\n",
       "            <dl>\n",
       "              <dt>Version</dt>\n",
       "                <dd><code>v2.4.1</code></dd>\n",
       "              <dt>Master</dt>\n",
       "                <dd><code>local</code></dd>\n",
       "              <dt>AppName</dt>\n",
       "                <dd><code>pyspark-mllib-dt-rf-nb</code></dd>\n",
       "            </dl>\n",
       "        </div>\n",
       "        "
      ],
      "text/plain": [
       "<SparkContext master=local appName=pyspark-mllib-dt-rf-nb>"
      ]
     },
     "execution_count": 3,
     "metadata": {},
     "output_type": "execute_result"
    }
   ],
   "source": [
    "spark = SparkSession.builder.master(\"local\").appName(\"pyspark-mllib-dt-rf-nb\").getOrCreate()\n",
    "spark.sparkContext"
   ]
  },
  {
   "cell_type": "code",
   "execution_count": 4,
   "metadata": {},
   "outputs": [],
   "source": [
    "#轉成dataframe\n",
    "df = spark.read.csv(\"/home/jovyan/dataset/bezdekIris.data\", inferSchema=True)\\\n",
    ".toDF(\"sep_len\", \"sep_wid\", \"pet_len\", \"pet_wid\", \"label\")"
   ]
  },
  {
   "cell_type": "code",
   "execution_count": 5,
   "metadata": {},
   "outputs": [
    {
     "name": "stdout",
     "output_type": "stream",
     "text": [
      "+-------+-------+-------+-------+-----------+\n",
      "|sep_len|sep_wid|pet_len|pet_wid|      label|\n",
      "+-------+-------+-------+-------+-----------+\n",
      "|    5.1|    3.5|    1.4|    0.2|Iris-setosa|\n",
      "|    4.9|    3.0|    1.4|    0.2|Iris-setosa|\n",
      "|    4.7|    3.2|    1.3|    0.2|Iris-setosa|\n",
      "|    4.6|    3.1|    1.5|    0.2|Iris-setosa|\n",
      "|    5.0|    3.6|    1.4|    0.2|Iris-setosa|\n",
      "|    5.4|    3.9|    1.7|    0.4|Iris-setosa|\n",
      "|    4.6|    3.4|    1.4|    0.3|Iris-setosa|\n",
      "|    5.0|    3.4|    1.5|    0.2|Iris-setosa|\n",
      "|    4.4|    2.9|    1.4|    0.2|Iris-setosa|\n",
      "|    4.9|    3.1|    1.5|    0.1|Iris-setosa|\n",
      "|    5.4|    3.7|    1.5|    0.2|Iris-setosa|\n",
      "|    4.8|    3.4|    1.6|    0.2|Iris-setosa|\n",
      "|    4.8|    3.0|    1.4|    0.1|Iris-setosa|\n",
      "|    4.3|    3.0|    1.1|    0.1|Iris-setosa|\n",
      "|    5.8|    4.0|    1.2|    0.2|Iris-setosa|\n",
      "|    5.7|    4.4|    1.5|    0.4|Iris-setosa|\n",
      "|    5.4|    3.9|    1.3|    0.4|Iris-setosa|\n",
      "|    5.1|    3.5|    1.4|    0.3|Iris-setosa|\n",
      "|    5.7|    3.8|    1.7|    0.3|Iris-setosa|\n",
      "|    5.1|    3.8|    1.5|    0.3|Iris-setosa|\n",
      "+-------+-------+-------+-------+-----------+\n",
      "only showing top 20 rows\n",
      "\n"
     ]
    }
   ],
   "source": [
    "df.show()"
   ]
  },
  {
   "cell_type": "code",
   "execution_count": 6,
   "metadata": {},
   "outputs": [],
   "source": [
    "#利用VectorAssembler結合所有欄位\n",
    "from pyspark.ml.linalg import Vectors\n",
    "from pyspark.ml.feature import VectorAssembler"
   ]
  },
  {
   "cell_type": "code",
   "execution_count": 7,
   "metadata": {},
   "outputs": [
    {
     "name": "stdout",
     "output_type": "stream",
     "text": [
      "+-------+-------+-------+-------+-----------+-----------------+\n",
      "|sep_len|sep_wid|pet_len|pet_wid|      label|         features|\n",
      "+-------+-------+-------+-------+-----------+-----------------+\n",
      "|    5.1|    3.5|    1.4|    0.2|Iris-setosa|[5.1,3.5,1.4,0.2]|\n",
      "|    4.9|    3.0|    1.4|    0.2|Iris-setosa|[4.9,3.0,1.4,0.2]|\n",
      "|    4.7|    3.2|    1.3|    0.2|Iris-setosa|[4.7,3.2,1.3,0.2]|\n",
      "|    4.6|    3.1|    1.5|    0.2|Iris-setosa|[4.6,3.1,1.5,0.2]|\n",
      "|    5.0|    3.6|    1.4|    0.2|Iris-setosa|[5.0,3.6,1.4,0.2]|\n",
      "|    5.4|    3.9|    1.7|    0.4|Iris-setosa|[5.4,3.9,1.7,0.4]|\n",
      "|    4.6|    3.4|    1.4|    0.3|Iris-setosa|[4.6,3.4,1.4,0.3]|\n",
      "|    5.0|    3.4|    1.5|    0.2|Iris-setosa|[5.0,3.4,1.5,0.2]|\n",
      "|    4.4|    2.9|    1.4|    0.2|Iris-setosa|[4.4,2.9,1.4,0.2]|\n",
      "|    4.9|    3.1|    1.5|    0.1|Iris-setosa|[4.9,3.1,1.5,0.1]|\n",
      "|    5.4|    3.7|    1.5|    0.2|Iris-setosa|[5.4,3.7,1.5,0.2]|\n",
      "|    4.8|    3.4|    1.6|    0.2|Iris-setosa|[4.8,3.4,1.6,0.2]|\n",
      "|    4.8|    3.0|    1.4|    0.1|Iris-setosa|[4.8,3.0,1.4,0.1]|\n",
      "|    4.3|    3.0|    1.1|    0.1|Iris-setosa|[4.3,3.0,1.1,0.1]|\n",
      "|    5.8|    4.0|    1.2|    0.2|Iris-setosa|[5.8,4.0,1.2,0.2]|\n",
      "|    5.7|    4.4|    1.5|    0.4|Iris-setosa|[5.7,4.4,1.5,0.4]|\n",
      "|    5.4|    3.9|    1.3|    0.4|Iris-setosa|[5.4,3.9,1.3,0.4]|\n",
      "|    5.1|    3.5|    1.4|    0.3|Iris-setosa|[5.1,3.5,1.4,0.3]|\n",
      "|    5.7|    3.8|    1.7|    0.3|Iris-setosa|[5.7,3.8,1.7,0.3]|\n",
      "|    5.1|    3.8|    1.5|    0.3|Iris-setosa|[5.1,3.8,1.5,0.3]|\n",
      "+-------+-------+-------+-------+-----------+-----------------+\n",
      "only showing top 20 rows\n",
      "\n"
     ]
    }
   ],
   "source": [
    "#將這四個欄位進行VectorAssembler\n",
    "vector_assembler=VectorAssembler(inputCols=[\"sep_len\",\"sep_wid\",\"pet_len\",\"pet_wid\"], outputCol=\"features\")\n",
    "df_temp=vector_assembler.transform(df)\n",
    "df_temp.show()"
   ]
  },
  {
   "cell_type": "code",
   "execution_count": 8,
   "metadata": {},
   "outputs": [
    {
     "name": "stdout",
     "output_type": "stream",
     "text": [
      "+-----------+-----------------+\n",
      "|      label|         features|\n",
      "+-----------+-----------------+\n",
      "|Iris-setosa|[5.1,3.5,1.4,0.2]|\n",
      "|Iris-setosa|[4.9,3.0,1.4,0.2]|\n",
      "|Iris-setosa|[4.7,3.2,1.3,0.2]|\n",
      "+-----------+-----------------+\n",
      "only showing top 3 rows\n",
      "\n"
     ]
    }
   ],
   "source": [
    "#移除不需要的欄位\n",
    "df=df_temp.drop('sep_len', 'sep_wid', 'pet_len', 'pet_wid')\n",
    "df.show(3)"
   ]
  },
  {
   "cell_type": "code",
   "execution_count": 9,
   "metadata": {},
   "outputs": [],
   "source": [
    "#整理應變數\n",
    "from pyspark.ml.feature import StringIndexer"
   ]
  },
  {
   "cell_type": "code",
   "execution_count": 10,
   "metadata": {
    "scrolled": true
   },
   "outputs": [],
   "source": [
    "#需要index應變數\n",
    "l_indexer = StringIndexer(inputCol=\"label\", outputCol=\"labelIndex\")\n",
    "df=l_indexer.fit(df).transform(df)"
   ]
  },
  {
   "cell_type": "code",
   "execution_count": 11,
   "metadata": {},
   "outputs": [
    {
     "name": "stdout",
     "output_type": "stream",
     "text": [
      "+-----------+-----------------+----------+\n",
      "|      label|         features|labelIndex|\n",
      "+-----------+-----------------+----------+\n",
      "|Iris-setosa|[5.1,3.5,1.4,0.2]|       0.0|\n",
      "|Iris-setosa|[4.9,3.0,1.4,0.2]|       0.0|\n",
      "|Iris-setosa|[4.7,3.2,1.3,0.2]|       0.0|\n",
      "|Iris-setosa|[4.6,3.1,1.5,0.2]|       0.0|\n",
      "|Iris-setosa|[5.0,3.6,1.4,0.2]|       0.0|\n",
      "|Iris-setosa|[5.4,3.9,1.7,0.4]|       0.0|\n",
      "|Iris-setosa|[4.6,3.4,1.4,0.3]|       0.0|\n",
      "|Iris-setosa|[5.0,3.4,1.5,0.2]|       0.0|\n",
      "|Iris-setosa|[4.4,2.9,1.4,0.2]|       0.0|\n",
      "|Iris-setosa|[4.9,3.1,1.5,0.1]|       0.0|\n",
      "+-----------+-----------------+----------+\n",
      "only showing top 10 rows\n",
      "\n"
     ]
    }
   ],
   "source": [
    "df.show(10)"
   ]
  },
  {
   "cell_type": "code",
   "execution_count": 15,
   "metadata": {},
   "outputs": [
    {
     "name": "stdout",
     "output_type": "stream",
     "text": [
      "+---------------+-----------------+----------+\n",
      "|          label|         features|labelIndex|\n",
      "+---------------+-----------------+----------+\n",
      "|Iris-versicolor|[7.0,3.2,4.7,1.4]|       1.0|\n",
      "|Iris-versicolor|[6.4,3.2,4.5,1.5]|       1.0|\n",
      "|Iris-versicolor|[6.9,3.1,4.9,1.5]|       1.0|\n",
      "|Iris-versicolor|[5.5,2.3,4.0,1.3]|       1.0|\n",
      "|Iris-versicolor|[6.5,2.8,4.6,1.5]|       1.0|\n",
      "|Iris-versicolor|[5.7,2.8,4.5,1.3]|       1.0|\n",
      "|Iris-versicolor|[6.3,3.3,4.7,1.6]|       1.0|\n",
      "|Iris-versicolor|[4.9,2.4,3.3,1.0]|       1.0|\n",
      "|Iris-versicolor|[6.6,2.9,4.6,1.3]|       1.0|\n",
      "|Iris-versicolor|[5.2,2.7,3.9,1.4]|       1.0|\n",
      "|Iris-versicolor|[5.0,2.0,3.5,1.0]|       1.0|\n",
      "|Iris-versicolor|[5.9,3.0,4.2,1.5]|       1.0|\n",
      "|Iris-versicolor|[6.0,2.2,4.0,1.0]|       1.0|\n",
      "|Iris-versicolor|[6.1,2.9,4.7,1.4]|       1.0|\n",
      "|Iris-versicolor|[5.6,2.9,3.6,1.3]|       1.0|\n",
      "|Iris-versicolor|[6.7,3.1,4.4,1.4]|       1.0|\n",
      "|Iris-versicolor|[5.6,3.0,4.5,1.5]|       1.0|\n",
      "|Iris-versicolor|[5.8,2.7,4.1,1.0]|       1.0|\n",
      "|Iris-versicolor|[6.2,2.2,4.5,1.5]|       1.0|\n",
      "|Iris-versicolor|[5.6,2.5,3.9,1.1]|       1.0|\n",
      "+---------------+-----------------+----------+\n",
      "only showing top 20 rows\n",
      "\n"
     ]
    }
   ],
   "source": [
    "df.filter(df['label']!='Iris-setosa').show()"
   ]
  },
  {
   "cell_type": "code",
   "execution_count": 18,
   "metadata": {},
   "outputs": [
    {
     "name": "stdout",
     "output_type": "stream",
     "text": [
      "+--------------+-----------------+----------+\n",
      "|         label|         features|labelIndex|\n",
      "+--------------+-----------------+----------+\n",
      "|Iris-virginica|[6.3,3.3,6.0,2.5]|       2.0|\n",
      "|Iris-virginica|[5.8,2.7,5.1,1.9]|       2.0|\n",
      "|Iris-virginica|[7.1,3.0,5.9,2.1]|       2.0|\n",
      "|Iris-virginica|[6.3,2.9,5.6,1.8]|       2.0|\n",
      "|Iris-virginica|[6.5,3.0,5.8,2.2]|       2.0|\n",
      "|Iris-virginica|[7.6,3.0,6.6,2.1]|       2.0|\n",
      "|Iris-virginica|[4.9,2.5,4.5,1.7]|       2.0|\n",
      "|Iris-virginica|[7.3,2.9,6.3,1.8]|       2.0|\n",
      "|Iris-virginica|[6.7,2.5,5.8,1.8]|       2.0|\n",
      "|Iris-virginica|[7.2,3.6,6.1,2.5]|       2.0|\n",
      "|Iris-virginica|[6.5,3.2,5.1,2.0]|       2.0|\n",
      "|Iris-virginica|[6.4,2.7,5.3,1.9]|       2.0|\n",
      "|Iris-virginica|[6.8,3.0,5.5,2.1]|       2.0|\n",
      "|Iris-virginica|[5.7,2.5,5.0,2.0]|       2.0|\n",
      "|Iris-virginica|[5.8,2.8,5.1,2.4]|       2.0|\n",
      "|Iris-virginica|[6.4,3.2,5.3,2.3]|       2.0|\n",
      "|Iris-virginica|[6.5,3.0,5.5,1.8]|       2.0|\n",
      "|Iris-virginica|[7.7,3.8,6.7,2.2]|       2.0|\n",
      "|Iris-virginica|[7.7,2.6,6.9,2.3]|       2.0|\n",
      "|Iris-virginica|[6.0,2.2,5.0,1.5]|       2.0|\n",
      "+--------------+-----------------+----------+\n",
      "only showing top 20 rows\n",
      "\n"
     ]
    }
   ],
   "source": [
    "df.filter((df['label']!='Iris-setosa') & (df['label']!='Iris-versicolor')).show()"
   ]
  },
  {
   "cell_type": "code",
   "execution_count": 19,
   "metadata": {},
   "outputs": [],
   "source": [
    "(trainingData, testData) = df.randomSplit([0.7, 0.3])"
   ]
  },
  {
   "cell_type": "markdown",
   "metadata": {},
   "source": [
    "# Decision tree classifier"
   ]
  },
  {
   "cell_type": "code",
   "execution_count": 20,
   "metadata": {},
   "outputs": [],
   "source": [
    "from pyspark.ml.classification import DecisionTreeClassifier\n",
    "from pyspark.ml.evaluation import MulticlassClassificationEvaluator"
   ]
  },
  {
   "cell_type": "code",
   "execution_count": 21,
   "metadata": {},
   "outputs": [],
   "source": [
    "#訓練決策樹模型\n",
    "dt=DecisionTreeClassifier(labelCol='labelIndex', featuresCol=\"features\")\n",
    "model=dt.fit(trainingData)"
   ]
  },
  {
   "cell_type": "code",
   "execution_count": 22,
   "metadata": {},
   "outputs": [],
   "source": [
    "#預測\n",
    "predictions = model.transform(testData)"
   ]
  },
  {
   "cell_type": "code",
   "execution_count": 23,
   "metadata": {},
   "outputs": [
    {
     "name": "stdout",
     "output_type": "stream",
     "text": [
      "+----------+----------+\n",
      "|prediction|labelIndex|\n",
      "+----------+----------+\n",
      "|       0.0|       0.0|\n",
      "|       0.0|       0.0|\n",
      "|       0.0|       0.0|\n",
      "|       0.0|       0.0|\n",
      "|       0.0|       0.0|\n",
      "+----------+----------+\n",
      "only showing top 5 rows\n",
      "\n"
     ]
    }
   ],
   "source": [
    "predictions.select(\"prediction\", \"labelIndex\").show(5)"
   ]
  },
  {
   "cell_type": "code",
   "execution_count": 24,
   "metadata": {},
   "outputs": [],
   "source": [
    "#模型成效\n",
    "evaluator=MulticlassClassificationEvaluator(labelCol=\"labelIndex\", predictionCol=\"prediction\", metricName=\"accuracy\")"
   ]
  },
  {
   "cell_type": "code",
   "execution_count": 25,
   "metadata": {},
   "outputs": [
    {
     "name": "stdout",
     "output_type": "stream",
     "text": [
      "Test set accuracy=0.95\n"
     ]
    }
   ],
   "source": [
    "accuracy=evaluator.evaluate(predictions)\n",
    "print(\"Test set accuracy={}\".format(str(accuracy)))"
   ]
  },
  {
   "cell_type": "code",
   "execution_count": 26,
   "metadata": {},
   "outputs": [
    {
     "name": "stdout",
     "output_type": "stream",
     "text": [
      "Test error=0.05\n"
     ]
    }
   ],
   "source": [
    "print(\"Test error=%g\" % (1.0-accuracy))"
   ]
  },
  {
   "cell_type": "code",
   "execution_count": 27,
   "metadata": {},
   "outputs": [
    {
     "name": "stdout",
     "output_type": "stream",
     "text": [
      "DecisionTreeClassificationModel (uid=DecisionTreeClassifier_b6c982345361) of depth 5 with 11 nodes\n"
     ]
    }
   ],
   "source": [
    "print(model)"
   ]
  },
  {
   "cell_type": "markdown",
   "metadata": {},
   "source": [
    "# Naive Bayes classifier"
   ]
  },
  {
   "cell_type": "code",
   "execution_count": 28,
   "metadata": {},
   "outputs": [],
   "source": [
    "#分割資料\n",
    "splits=df.randomSplit([0.6, 0.4], 1234)\n",
    "train=splits[0]\n",
    "test=splits[1]"
   ]
  },
  {
   "cell_type": "code",
   "execution_count": 29,
   "metadata": {},
   "outputs": [],
   "source": [
    "from pyspark.ml.classification import NaiveBayes"
   ]
  },
  {
   "cell_type": "code",
   "execution_count": 30,
   "metadata": {},
   "outputs": [],
   "source": [
    "#建立貝氏分類模型\n",
    "nb=NaiveBayes(labelCol=\"labelIndex\", featuresCol=\"features\", smoothing=1.0, modelType=\"multinomial\")"
   ]
  },
  {
   "cell_type": "code",
   "execution_count": 31,
   "metadata": {},
   "outputs": [],
   "source": [
    "#訓練模型\n",
    "model=nb.fit(train)"
   ]
  },
  {
   "cell_type": "code",
   "execution_count": 32,
   "metadata": {},
   "outputs": [
    {
     "name": "stdout",
     "output_type": "stream",
     "text": [
      "+---------------+----------+--------------------+----------+\n",
      "|          label|labelIndex|         probability|prediction|\n",
      "+---------------+----------+--------------------+----------+\n",
      "|    Iris-setosa|       0.0|[0.72723788653438...|       0.0|\n",
      "|    Iris-setosa|       0.0|[0.64170595827692...|       0.0|\n",
      "|    Iris-setosa|       0.0|[0.67184222484015...|       0.0|\n",
      "|    Iris-setosa|       0.0|[0.68647236934182...|       0.0|\n",
      "|    Iris-setosa|       0.0|[0.79151826954673...|       0.0|\n",
      "|    Iris-setosa|       0.0|[0.66189579367600...|       0.0|\n",
      "|    Iris-setosa|       0.0|[0.65307352257988...|       0.0|\n",
      "|    Iris-setosa|       0.0|[0.73045962362363...|       0.0|\n",
      "|    Iris-setosa|       0.0|[0.59100133493054...|       0.0|\n",
      "|    Iris-setosa|       0.0|[0.75334864217418...|       0.0|\n",
      "|    Iris-setosa|       0.0|[0.71961717211598...|       0.0|\n",
      "|    Iris-setosa|       0.0|[0.70085626812960...|       0.0|\n",
      "|    Iris-setosa|       0.0|[0.75135089290995...|       0.0|\n",
      "|    Iris-setosa|       0.0|[0.81917691849121...|       0.0|\n",
      "|    Iris-setosa|       0.0|[0.70167417823247...|       0.0|\n",
      "|    Iris-setosa|       0.0|[0.70693654712612...|       0.0|\n",
      "|    Iris-setosa|       0.0|[0.77399109802077...|       0.0|\n",
      "|    Iris-setosa|       0.0|[0.73417003725876...|       0.0|\n",
      "|Iris-versicolor|       1.0|[0.10256421525027...|       1.0|\n",
      "|Iris-versicolor|       1.0|[0.07454754951196...|       1.0|\n",
      "+---------------+----------+--------------------+----------+\n",
      "only showing top 20 rows\n",
      "\n"
     ]
    }
   ],
   "source": [
    "#預測\n",
    "predictions=model.transform(test)\n",
    "predictions.select(\"label\", \"labelIndex\", \"probability\", \"prediction\").show()"
   ]
  },
  {
   "cell_type": "code",
   "execution_count": 33,
   "metadata": {},
   "outputs": [],
   "source": [
    "#模型成效\n",
    "evaluator=MulticlassClassificationEvaluator(labelCol=\"labelIndex\", predictionCol=\"prediction\", metricName=\"accuracy\")"
   ]
  },
  {
   "cell_type": "code",
   "execution_count": 34,
   "metadata": {},
   "outputs": [
    {
     "name": "stdout",
     "output_type": "stream",
     "text": [
      "Test set accuracy=0.8235294117647058\n"
     ]
    }
   ],
   "source": [
    "accuracy=evaluator.evaluate(predictions)\n",
    "print(\"Test set accuracy={}\".format(str(accuracy)))"
   ]
  },
  {
   "cell_type": "markdown",
   "metadata": {},
   "source": [
    "# Random forest classifier"
   ]
  },
  {
   "cell_type": "code",
   "execution_count": 35,
   "metadata": {},
   "outputs": [],
   "source": [
    "from pyspark.ml.classification import RandomForestClassifier"
   ]
  },
  {
   "cell_type": "code",
   "execution_count": 36,
   "metadata": {},
   "outputs": [],
   "source": [
    "#建立隨機森林模型\n",
    "#10顆CART弱分類器\n",
    "rf=RandomForestClassifier(labelCol=\"labelIndex\", featuresCol=\"features\", numTrees=10)\n",
    "model=rf.fit(trainingData)"
   ]
  },
  {
   "cell_type": "code",
   "execution_count": 37,
   "metadata": {},
   "outputs": [
    {
     "name": "stdout",
     "output_type": "stream",
     "text": [
      "+----------+----------+\n",
      "|prediction|labelIndex|\n",
      "+----------+----------+\n",
      "|       0.0|       0.0|\n",
      "|       0.0|       0.0|\n",
      "|       0.0|       0.0|\n",
      "|       0.0|       0.0|\n",
      "|       0.0|       0.0|\n",
      "+----------+----------+\n",
      "only showing top 5 rows\n",
      "\n"
     ]
    }
   ],
   "source": [
    "#預測\n",
    "predictions.select(\"prediction\", \"labelIndex\").show(5)"
   ]
  },
  {
   "cell_type": "code",
   "execution_count": 38,
   "metadata": {},
   "outputs": [],
   "source": [
    "#模型成效\n",
    "evaluator=MulticlassClassificationEvaluator(labelCol=\"labelIndex\", predictionCol=\"prediction\", metricName=\"accuracy\")"
   ]
  },
  {
   "cell_type": "code",
   "execution_count": 41,
   "metadata": {},
   "outputs": [
    {
     "name": "stdout",
     "output_type": "stream",
     "text": [
      "Test set accuracy=0.8235294117647058\n"
     ]
    }
   ],
   "source": [
    "accuracy=evaluator.evaluate(predictions)\n",
    "print(\"Test set accuracy={}\".format(str(accuracy)))"
   ]
  },
  {
   "cell_type": "code",
   "execution_count": 42,
   "metadata": {},
   "outputs": [
    {
     "name": "stdout",
     "output_type": "stream",
     "text": [
      "Test Error = 0.176471\n"
     ]
    }
   ],
   "source": [
    "print(\"Test Error = %g\" % (1.0-accuracy))"
   ]
  },
  {
   "cell_type": "code",
   "execution_count": 43,
   "metadata": {},
   "outputs": [
    {
     "name": "stdout",
     "output_type": "stream",
     "text": [
      "RandomForestClassificationModel (uid=RandomForestClassifier_fe0547ff9ec1) with 10 trees\n"
     ]
    }
   ],
   "source": [
    "print(model)"
   ]
  },
  {
   "cell_type": "code",
   "execution_count": 44,
   "metadata": {},
   "outputs": [],
   "source": [
    "spark.stop()"
   ]
  },
  {
   "cell_type": "code",
   "execution_count": null,
   "metadata": {},
   "outputs": [],
   "source": []
  }
 ],
 "metadata": {
  "kernelspec": {
   "display_name": "Python 3",
   "language": "python",
   "name": "python3"
  },
  "language_info": {
   "codemirror_mode": {
    "name": "ipython",
    "version": 3
   },
   "file_extension": ".py",
   "mimetype": "text/x-python",
   "name": "python",
   "nbconvert_exporter": "python",
   "pygments_lexer": "ipython3",
   "version": "3.7.3"
  }
 },
 "nbformat": 4,
 "nbformat_minor": 2
}

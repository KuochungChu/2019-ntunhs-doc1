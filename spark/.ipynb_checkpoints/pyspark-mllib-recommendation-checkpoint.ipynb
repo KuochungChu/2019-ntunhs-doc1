{
 "cells": [
  {
   "cell_type": "code",
   "execution_count": 1,
   "metadata": {},
   "outputs": [],
   "source": [
    "from pyspark.sql import SparkSession "
   ]
  },
  {
   "cell_type": "code",
   "execution_count": 2,
   "metadata": {},
   "outputs": [
    {
     "data": {
      "text/html": [
       "\n",
       "        <div>\n",
       "            <p><b>SparkContext</b></p>\n",
       "\n",
       "            <p><a href=\"http://be272d7ce1c9:4044\">Spark UI</a></p>\n",
       "\n",
       "            <dl>\n",
       "              <dt>Version</dt>\n",
       "                <dd><code>v2.4.1</code></dd>\n",
       "              <dt>Master</dt>\n",
       "                <dd><code>local</code></dd>\n",
       "              <dt>AppName</dt>\n",
       "                <dd><code>pyspark-command-1</code></dd>\n",
       "            </dl>\n",
       "        </div>\n",
       "        "
      ],
      "text/plain": [
       "<SparkContext master=local appName=pyspark-command-1>"
      ]
     },
     "execution_count": 2,
     "metadata": {},
     "output_type": "execute_result"
    }
   ],
   "source": [
    "spark = SparkSession.builder.master(\"local\").appName(\"pyspark-recomm-1\").getOrCreate()\n",
    "spark.sparkContext"
   ]
  },
  {
   "cell_type": "code",
   "execution_count": 3,
   "metadata": {},
   "outputs": [],
   "source": [
    "sc = spark.sparkContext"
   ]
  },
  {
   "cell_type": "code",
   "execution_count": 9,
   "metadata": {},
   "outputs": [],
   "source": [
    "movielens=sc.textFile(\"/home/jovyan/dataset/u.data\")"
   ]
  },
  {
   "cell_type": "code",
   "execution_count": 10,
   "metadata": {},
   "outputs": [
    {
     "data": {
      "text/plain": [
       "'196\\t242\\t3\\t881250949'"
      ]
     },
     "execution_count": 10,
     "metadata": {},
     "output_type": "execute_result"
    }
   ],
   "source": [
    "#user id | item id | rating | timestamp\n",
    "movielens.first()"
   ]
  },
  {
   "cell_type": "code",
   "execution_count": 11,
   "metadata": {},
   "outputs": [
    {
     "data": {
      "text/plain": [
       "100000"
      ]
     },
     "execution_count": 11,
     "metadata": {},
     "output_type": "execute_result"
    }
   ],
   "source": [
    "movielens.count()"
   ]
  },
  {
   "cell_type": "code",
   "execution_count": 12,
   "metadata": {},
   "outputs": [],
   "source": [
    "#處理分隔符號\n",
    "clean_data=movielens.map(lambda x: x.split('\\t'))"
   ]
  },
  {
   "cell_type": "code",
   "execution_count": 13,
   "metadata": {},
   "outputs": [
    {
     "data": {
      "text/plain": [
       "[['196', '242', '3', '881250949']]"
      ]
     },
     "execution_count": 13,
     "metadata": {},
     "output_type": "execute_result"
    }
   ],
   "source": [
    "clean_data.take(1)"
   ]
  },
  {
   "cell_type": "code",
   "execution_count": 14,
   "metadata": {},
   "outputs": [],
   "source": [
    "rate=clean_data.map(lambda y: int(y[2]))"
   ]
  },
  {
   "cell_type": "code",
   "execution_count": 17,
   "metadata": {},
   "outputs": [
    {
     "data": {
      "text/plain": [
       "3.529859999999947"
      ]
     },
     "execution_count": 17,
     "metadata": {},
     "output_type": "execute_result"
    }
   ],
   "source": [
    "#avg rating\n",
    "rate.mean()"
   ]
  },
  {
   "cell_type": "code",
   "execution_count": 21,
   "metadata": {},
   "outputs": [
    {
     "data": {
      "text/plain": [
       "943"
      ]
     },
     "execution_count": 21,
     "metadata": {},
     "output_type": "execute_result"
    }
   ],
   "source": [
    "#extract unique users\n",
    "users=clean_data.map(lambda y: int(y[0]))\n",
    "users.distinct().count()"
   ]
  },
  {
   "cell_type": "code",
   "execution_count": 23,
   "metadata": {},
   "outputs": [
    {
     "data": {
      "text/plain": [
       "1682"
      ]
     },
     "execution_count": 23,
     "metadata": {},
     "output_type": "execute_result"
    }
   ],
   "source": [
    "#extract unique items\n",
    "clean_data.map(lambda y: int(y[1])).distinct().count()"
   ]
  },
  {
   "cell_type": "code",
   "execution_count": 24,
   "metadata": {},
   "outputs": [],
   "source": [
    "from pyspark.mllib.recommendation import ALS,MatrixFactorizationModel, Rating"
   ]
  },
  {
   "cell_type": "code",
   "execution_count": 25,
   "metadata": {},
   "outputs": [],
   "source": [
    "#準備 Rating 物件規定的資料格式\n",
    "#Rating物件的資料格式樣貌 (user, item, rating)\n",
    "mls=movielens.map(lambda l: l.split('\\t'))\n",
    "ratings=mls.map(lambda x: Rating(int(x[0]), int(x[1]), float(x[2])))"
   ]
  },
  {
   "cell_type": "code",
   "execution_count": 26,
   "metadata": {},
   "outputs": [],
   "source": [
    "train, test = ratings.randomSplit([0.7,0.3],7856)"
   ]
  },
  {
   "cell_type": "code",
   "execution_count": 27,
   "metadata": {},
   "outputs": [
    {
     "data": {
      "text/plain": [
       "69958"
      ]
     },
     "execution_count": 27,
     "metadata": {},
     "output_type": "execute_result"
    }
   ],
   "source": [
    "train.count()"
   ]
  },
  {
   "cell_type": "code",
   "execution_count": 28,
   "metadata": {},
   "outputs": [
    {
     "data": {
      "text/plain": [
       "30042"
      ]
     },
     "execution_count": 28,
     "metadata": {},
     "output_type": "execute_result"
    }
   ],
   "source": [
    "test.count()"
   ]
  },
  {
   "cell_type": "code",
   "execution_count": 29,
   "metadata": {},
   "outputs": [
    {
     "data": {
      "text/plain": [
       "PythonRDD[36] at RDD at PythonRDD.scala:53"
      ]
     },
     "execution_count": 29,
     "metadata": {},
     "output_type": "execute_result"
    }
   ],
   "source": [
    "#catch內容於記憶體中\n",
    "train.cache()\n",
    "test.cache()"
   ]
  },
  {
   "cell_type": "code",
   "execution_count": 31,
   "metadata": {},
   "outputs": [],
   "source": [
    "# Setting up the parameters for ALS\n",
    "\n",
    "# latent factors to be made\n",
    "rank=5\n",
    "\n",
    "# times to repeat process\n",
    "numIterations=10\n",
    "\n",
    "# create the model on the training data\n",
    "model = ALS.train(train, rank, numIterations)\n",
    "\n"
   ]
  },
  {
   "cell_type": "code",
   "execution_count": 32,
   "metadata": {},
   "outputs": [
    {
     "data": {
      "text/plain": [
       "(1,\n",
       " array('d', [1.0611644983291626, -0.3682734966278076, 0.8250443339347839, -1.5765724182128906, 0.3025120198726654]))"
      ]
     },
     "execution_count": 32,
     "metadata": {},
     "output_type": "execute_result"
    }
   ],
   "source": [
    "# examine the latent features for one product\n",
    "model.productFeatures().first()"
   ]
  },
  {
   "cell_type": "code",
   "execution_count": 33,
   "metadata": {},
   "outputs": [
    {
     "data": {
      "text/plain": [
       "(1,\n",
       " array('d', [0.8092861175537109, 0.035514868795871735, 0.272292822599411, -1.825940728187561, -0.4982907474040985]))"
      ]
     },
     "execution_count": 33,
     "metadata": {},
     "output_type": "execute_result"
    }
   ],
   "source": [
    "# examine the latent features for one user\n",
    "model.userFeatures().first()"
   ]
  },
  {
   "cell_type": "code",
   "execution_count": 34,
   "metadata": {},
   "outputs": [
    {
     "data": {
      "text/plain": [
       "[Rating(user=196, product=1426, rating=10.267291555774372),\n",
       " Rating(user=196, product=1131, rating=9.773806810157895),\n",
       " Rating(user=196, product=536, rating=9.149057931645125),\n",
       " Rating(user=196, product=1288, rating=9.093548768685203),\n",
       " Rating(user=196, product=593, rating=9.025447828274348),\n",
       " Rating(user=196, product=1164, rating=8.799332434096375),\n",
       " Rating(user=196, product=1256, rating=8.673851959043471),\n",
       " Rating(user=196, product=1438, rating=8.641675414602329),\n",
       " Rating(user=196, product=960, rating=7.868645752414352),\n",
       " Rating(user=196, product=867, rating=7.693642080122711)]"
      ]
     },
     "execution_count": 34,
     "metadata": {},
     "output_type": "execute_result"
    }
   ],
   "source": [
    "# for user Y find N products to promote\n",
    "model.recommendProducts(196,10)"
   ]
  },
  {
   "cell_type": "code",
   "execution_count": 37,
   "metadata": {},
   "outputs": [
    {
     "data": {
      "text/plain": [
       "[Rating(user=362, product=242, rating=5.991686728647808),\n",
       " Rating(user=180, product=242, rating=5.663905182138553),\n",
       " Rating(user=240, product=242, rating=5.410674476543293),\n",
       " Rating(user=148, product=242, rating=5.388165293143466),\n",
       " Rating(user=941, product=242, rating=5.355764045984312),\n",
       " Rating(user=310, product=242, rating=5.342369057568135),\n",
       " Rating(user=686, product=242, rating=5.3248222960986515),\n",
       " Rating(user=732, product=242, rating=5.304250103307785),\n",
       " Rating(user=688, product=242, rating=5.2433280418538235),\n",
       " Rating(user=563, product=242, rating=5.232785722718464),\n",
       " Rating(user=4, product=242, rating=5.229012756772483),\n",
       " Rating(user=415, product=242, rating=5.214984396327335),\n",
       " Rating(user=923, product=242, rating=5.133650187942909),\n",
       " Rating(user=565, product=242, rating=5.092504052307568),\n",
       " Rating(user=317, product=242, rating=5.0163693751905045),\n",
       " Rating(user=770, product=242, rating=5.010972999248235),\n",
       " Rating(user=9, product=242, rating=5.010693103063883),\n",
       " Rating(user=810, product=242, rating=5.0091967596198455),\n",
       " Rating(user=34, product=242, rating=5.006220467776073),\n",
       " Rating(user=803, product=242, rating=4.9991234237847735),\n",
       " Rating(user=628, product=242, rating=4.966244787028903),\n",
       " Rating(user=613, product=242, rating=4.964910218345603),\n",
       " Rating(user=118, product=242, rating=4.9634555266407),\n",
       " Rating(user=928, product=242, rating=4.962483248421595),\n",
       " Rating(user=270, product=242, rating=4.958131484792207),\n",
       " Rating(user=765, product=242, rating=4.95744385143697),\n",
       " Rating(user=174, product=242, rating=4.927206640194374),\n",
       " Rating(user=414, product=242, rating=4.925356806167058),\n",
       " Rating(user=636, product=242, rating=4.924050787146179),\n",
       " Rating(user=173, product=242, rating=4.917746700649983),\n",
       " Rating(user=598, product=242, rating=4.9107347257686875),\n",
       " Rating(user=725, product=242, rating=4.88341676806321),\n",
       " Rating(user=696, product=242, rating=4.881143354338547),\n",
       " Rating(user=249, product=242, rating=4.872063083407544),\n",
       " Rating(user=472, product=242, rating=4.870143685983133),\n",
       " Rating(user=842, product=242, rating=4.868368251288766),\n",
       " Rating(user=295, product=242, rating=4.8678731560400275),\n",
       " Rating(user=534, product=242, rating=4.8571958115997536),\n",
       " Rating(user=862, product=242, rating=4.850138704182961),\n",
       " Rating(user=274, product=242, rating=4.7883240800462),\n",
       " Rating(user=386, product=242, rating=4.775342259967577),\n",
       " Rating(user=939, product=242, rating=4.772075487677171),\n",
       " Rating(user=252, product=242, rating=4.751531558263192),\n",
       " Rating(user=22, product=242, rating=4.743875469575115),\n",
       " Rating(user=583, product=242, rating=4.742182777659553),\n",
       " Rating(user=888, product=242, rating=4.737092647552526),\n",
       " Rating(user=357, product=242, rating=4.736555672400945),\n",
       " Rating(user=94, product=242, rating=4.724747337893072),\n",
       " Rating(user=367, product=242, rating=4.715151020268602),\n",
       " Rating(user=52, product=242, rating=4.711565737220402),\n",
       " Rating(user=364, product=242, rating=4.704176352408967),\n",
       " Rating(user=394, product=242, rating=4.693694942623704),\n",
       " Rating(user=767, product=242, rating=4.6922547599270015),\n",
       " Rating(user=244, product=242, rating=4.688847702406259),\n",
       " Rating(user=717, product=242, rating=4.684788807131642),\n",
       " Rating(user=324, product=242, rating=4.683958167888852),\n",
       " Rating(user=24, product=242, rating=4.681205439271491),\n",
       " Rating(user=794, product=242, rating=4.6784498233125795),\n",
       " Rating(user=30, product=242, rating=4.666062193966338),\n",
       " Rating(user=67, product=242, rating=4.661080133297576),\n",
       " Rating(user=350, product=242, rating=4.653878778443714),\n",
       " Rating(user=58, product=242, rating=4.652228639108062),\n",
       " Rating(user=338, product=242, rating=4.651901686692819),\n",
       " Rating(user=592, product=242, rating=4.646440522347504),\n",
       " Rating(user=204, product=242, rating=4.643816992007853),\n",
       " Rating(user=242, product=242, rating=4.64294917573916),\n",
       " Rating(user=59, product=242, rating=4.635575974776),\n",
       " Rating(user=711, product=242, rating=4.634173654990711),\n",
       " Rating(user=936, product=242, rating=4.628592947893961),\n",
       " Rating(user=45, product=242, rating=4.627369515989239),\n",
       " Rating(user=283, product=242, rating=4.615523180755609),\n",
       " Rating(user=907, product=242, rating=4.615315463276726),\n",
       " Rating(user=772, product=242, rating=4.61107823133874),\n",
       " Rating(user=464, product=242, rating=4.610673122635869),\n",
       " Rating(user=147, product=242, rating=4.609324634419892),\n",
       " Rating(user=332, product=242, rating=4.607386839277184),\n",
       " Rating(user=458, product=242, rating=4.607207303868087),\n",
       " Rating(user=86, product=242, rating=4.5993631483876944),\n",
       " Rating(user=640, product=242, rating=4.597915746102704),\n",
       " Rating(user=440, product=242, rating=4.591518529019747),\n",
       " Rating(user=461, product=242, rating=4.5868777536958),\n",
       " Rating(user=233, product=242, rating=4.582506149606445),\n",
       " Rating(user=467, product=242, rating=4.581759298520676),\n",
       " Rating(user=261, product=242, rating=4.580574601286594),\n",
       " Rating(user=697, product=242, rating=4.5762125582705675),\n",
       " Rating(user=157, product=242, rating=4.570128236557995),\n",
       " Rating(user=122, product=242, rating=4.567470959304018),\n",
       " Rating(user=267, product=242, rating=4.563591069486481),\n",
       " Rating(user=849, product=242, rating=4.561392933049249),\n",
       " Rating(user=278, product=242, rating=4.5599085148423715),\n",
       " Rating(user=597, product=242, rating=4.558413061861323),\n",
       " Rating(user=343, product=242, rating=4.557778466166466),\n",
       " Rating(user=556, product=242, rating=4.557593198083987),\n",
       " Rating(user=477, product=242, rating=4.557370313913106),\n",
       " Rating(user=339, product=242, rating=4.555488215900856),\n",
       " Rating(user=136, product=242, rating=4.553026073589754),\n",
       " Rating(user=115, product=242, rating=4.5509162763145525),\n",
       " Rating(user=743, product=242, rating=4.541815790890977),\n",
       " Rating(user=906, product=242, rating=4.540716660663188),\n",
       " Rating(user=291, product=242, rating=4.540682625447753)]"
      ]
     },
     "execution_count": 37,
     "metadata": {},
     "output_type": "execute_result"
    }
   ],
   "source": [
    "# for product X find N users to sell to\n",
    "model.recommendUsers(242,100)"
   ]
  },
  {
   "cell_type": "code",
   "execution_count": 38,
   "metadata": {},
   "outputs": [
    {
     "data": {
      "text/plain": [
       "3.621867639596772"
      ]
     },
     "execution_count": 38,
     "metadata": {},
     "output_type": "execute_result"
    }
   ],
   "source": [
    "# predict single product for single user\n",
    "model.predict(196,242)"
   ]
  },
  {
   "cell_type": "code",
   "execution_count": 45,
   "metadata": {},
   "outputs": [
    {
     "data": {
      "text/plain": [
       "[(196, 242)]"
      ]
     },
     "execution_count": 45,
     "metadata": {},
     "output_type": "execute_result"
    }
   ],
   "source": [
    "# predict multi users and multi products\n",
    "pred_input=train.map(lambda x:(x[0],x[1]))\n",
    "pred_input.take(1)"
   ]
  },
  {
   "cell_type": "code",
   "execution_count": 47,
   "metadata": {},
   "outputs": [
    {
     "data": {
      "text/plain": [
       "[Rating(user=195, product=1084, rating=3.842449993928904)]"
      ]
     },
     "execution_count": 47,
     "metadata": {},
     "output_type": "execute_result"
    }
   ],
   "source": [
    "# returns Ratings(user, item, prediction)\n",
    "pred = model.predictAll(pred_input) \n",
    "pred.take(1)"
   ]
  },
  {
   "cell_type": "code",
   "execution_count": 50,
   "metadata": {},
   "outputs": [],
   "source": [
    "# Get Performance Estimate\n",
    "# Organize the data to make (user, product)\n",
    "\n",
    "true_reorg=train.map(lambda x: ((x[0],x[1]), x[2]))\n",
    "pred_reorg=pred.map(lambda x: ((x[0],x[1]), x[2]))"
   ]
  },
  {
   "cell_type": "code",
   "execution_count": 51,
   "metadata": {},
   "outputs": [],
   "source": [
    "#結合兩個資料\n",
    "true_pred=true_reorg.join(pred_reorg)"
   ]
  },
  {
   "cell_type": "code",
   "execution_count": 54,
   "metadata": {},
   "outputs": [],
   "source": [
    "from math import sqrt"
   ]
  },
  {
   "cell_type": "code",
   "execution_count": 55,
   "metadata": {},
   "outputs": [],
   "source": [
    "MSE=true_pred.map(lambda r: (r[1][0]-r[1][1])**2).mean()"
   ]
  },
  {
   "cell_type": "code",
   "execution_count": 56,
   "metadata": {},
   "outputs": [],
   "source": [
    "RMSE=sqrt(MSE)"
   ]
  },
  {
   "cell_type": "code",
   "execution_count": 61,
   "metadata": {},
   "outputs": [
    {
     "name": "stdout",
     "output_type": "stream",
     "text": [
      "MSE=0.5826547535558756\n",
      "RMSE=0.763318251816289\n"
     ]
    }
   ],
   "source": [
    "print(\"MSE={}\".format(MSE))\n",
    "print(\"RMSE={}\".format(sqrt(MSE)))"
   ]
  },
  {
   "cell_type": "code",
   "execution_count": 65,
   "metadata": {},
   "outputs": [],
   "source": [
    "# evaluation\n",
    "test_input=test.map(lambda x:(x[0],x[1]))\n",
    "pred_test=model.predictAll(test_input)\n",
    "test_reorg=test.map(lambda x:((x[0],x[1]),x[2]))\n",
    "pred_reorg = pred_test.map(lambda x:((x[0],x[1]), x[2]))\n",
    "test_pred = test_reorg.join(pred_reorg)\n",
    "test_MSE = test_pred.map(lambda r: (r[1][0] - r[1][1])**2).mean()\n",
    "test_RMSE = sqrt(test_MSE)"
   ]
  },
  {
   "cell_type": "code",
   "execution_count": 66,
   "metadata": {},
   "outputs": [],
   "source": [
    "# save model\n",
    "model.save(sc,\"/home/jovyan/dataset/ml-recommandation-model\")"
   ]
  },
  {
   "cell_type": "code",
   "execution_count": 67,
   "metadata": {},
   "outputs": [],
   "source": [
    "# load model\n",
    "sameModel = MatrixFactorizationModel.load(sc, \"/home/jovyan/dataset/ml-recommandation-model\")"
   ]
  },
  {
   "cell_type": "code",
   "execution_count": 78,
   "metadata": {},
   "outputs": [],
   "source": [
    "# prediction\n",
    "data=sc.parallelize([(196,242)])\n",
    "pred=predictions = sameModel.predictAll(data)"
   ]
  },
  {
   "cell_type": "code",
   "execution_count": 81,
   "metadata": {},
   "outputs": [
    {
     "data": {
      "text/plain": [
       "[Rating(user=196, product=242, rating=3.621867639596772)]"
      ]
     },
     "execution_count": 81,
     "metadata": {},
     "output_type": "execute_result"
    }
   ],
   "source": [
    "pred.take(1)"
   ]
  },
  {
   "cell_type": "code",
   "execution_count": null,
   "metadata": {},
   "outputs": [],
   "source": []
  }
 ],
 "metadata": {
  "kernelspec": {
   "display_name": "Python 3",
   "language": "python",
   "name": "python3"
  },
  "language_info": {
   "codemirror_mode": {
    "name": "ipython",
    "version": 3
   },
   "file_extension": ".py",
   "mimetype": "text/x-python",
   "name": "python",
   "nbconvert_exporter": "python",
   "pygments_lexer": "ipython3",
   "version": "3.7.3"
  }
 },
 "nbformat": 4,
 "nbformat_minor": 2
}

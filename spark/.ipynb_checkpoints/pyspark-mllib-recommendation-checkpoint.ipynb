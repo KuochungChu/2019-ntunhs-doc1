{
 "cells": [
  {
   "cell_type": "code",
   "execution_count": 3,
   "metadata": {},
   "outputs": [],
   "source": [
    "from pyspark.sql import SparkSession "
   ]
  },
  {
   "cell_type": "code",
   "execution_count": 4,
   "metadata": {},
   "outputs": [
    {
     "data": {
      "text/html": [
       "\n",
       "        <div>\n",
       "            <p><b>SparkContext</b></p>\n",
       "\n",
       "            <p><a href=\"http://c84d41fcd832:4040\">Spark UI</a></p>\n",
       "\n",
       "            <dl>\n",
       "              <dt>Version</dt>\n",
       "                <dd><code>v2.4.2</code></dd>\n",
       "              <dt>Master</dt>\n",
       "                <dd><code>local</code></dd>\n",
       "              <dt>AppName</dt>\n",
       "                <dd><code>pyspark-recomm-1</code></dd>\n",
       "            </dl>\n",
       "        </div>\n",
       "        "
      ],
      "text/plain": [
       "<SparkContext master=local appName=pyspark-recomm-1>"
      ]
     },
     "execution_count": 4,
     "metadata": {},
     "output_type": "execute_result"
    }
   ],
   "source": [
    "spark = SparkSession.builder.master(\"local\").appName(\"pyspark-recomm-1\").getOrCreate()\n",
    "spark.sparkContext"
   ]
  },
  {
   "cell_type": "code",
   "execution_count": 5,
   "metadata": {},
   "outputs": [],
   "source": [
    "sc = spark.sparkContext"
   ]
  },
  {
   "cell_type": "code",
   "execution_count": 6,
   "metadata": {},
   "outputs": [],
   "source": [
    "movielens=sc.textFile(\"/home/jovyan/dataset/u.data\")"
   ]
  },
  {
   "cell_type": "code",
   "execution_count": 7,
   "metadata": {},
   "outputs": [
    {
     "data": {
      "text/plain": [
       "'196\\t242\\t3\\t881250949'"
      ]
     },
     "execution_count": 7,
     "metadata": {},
     "output_type": "execute_result"
    }
   ],
   "source": [
    "#user id | item id | rating | timestamp\n",
    "movielens.first()"
   ]
  },
  {
   "cell_type": "code",
   "execution_count": 8,
   "metadata": {},
   "outputs": [
    {
     "data": {
      "text/plain": [
       "100000"
      ]
     },
     "execution_count": 8,
     "metadata": {},
     "output_type": "execute_result"
    }
   ],
   "source": [
    "movielens.count()"
   ]
  },
  {
   "cell_type": "code",
   "execution_count": 9,
   "metadata": {},
   "outputs": [],
   "source": [
    "#處理分隔符號\n",
    "clean_data=movielens.map(lambda x: x.split('\\t'))"
   ]
  },
  {
   "cell_type": "code",
   "execution_count": 10,
   "metadata": {},
   "outputs": [
    {
     "data": {
      "text/plain": [
       "[['196', '242', '3', '881250949']]"
      ]
     },
     "execution_count": 10,
     "metadata": {},
     "output_type": "execute_result"
    }
   ],
   "source": [
    "clean_data.take(1)"
   ]
  },
  {
   "cell_type": "code",
   "execution_count": 11,
   "metadata": {},
   "outputs": [],
   "source": [
    "rate=clean_data.map(lambda y: int(y[2]))"
   ]
  },
  {
   "cell_type": "code",
   "execution_count": 12,
   "metadata": {},
   "outputs": [
    {
     "data": {
      "text/plain": [
       "3.529859999999947"
      ]
     },
     "execution_count": 12,
     "metadata": {},
     "output_type": "execute_result"
    }
   ],
   "source": [
    "#avg rating\n",
    "rate.mean()"
   ]
  },
  {
   "cell_type": "code",
   "execution_count": 13,
   "metadata": {},
   "outputs": [
    {
     "data": {
      "text/plain": [
       "943"
      ]
     },
     "execution_count": 13,
     "metadata": {},
     "output_type": "execute_result"
    }
   ],
   "source": [
    "#extract unique users\n",
    "users=clean_data.map(lambda y: int(y[0]))\n",
    "users.distinct().count()"
   ]
  },
  {
   "cell_type": "code",
   "execution_count": 14,
   "metadata": {},
   "outputs": [
    {
     "data": {
      "text/plain": [
       "1682"
      ]
     },
     "execution_count": 14,
     "metadata": {},
     "output_type": "execute_result"
    }
   ],
   "source": [
    "#extract unique items\n",
    "clean_data.map(lambda y: int(y[1])).distinct().count()"
   ]
  },
  {
   "cell_type": "code",
   "execution_count": 15,
   "metadata": {},
   "outputs": [],
   "source": [
    "from pyspark.mllib.recommendation import ALS,MatrixFactorizationModel, Rating"
   ]
  },
  {
   "cell_type": "code",
   "execution_count": 16,
   "metadata": {},
   "outputs": [],
   "source": [
    "#準備 Rating 物件規定的資料格式\n",
    "#Rating物件的資料格式樣貌 (user, item, rating)\n",
    "mls=movielens.map(lambda l: l.split('\\t'))\n",
    "ratings=mls.map(lambda x: Rating(int(x[0]), int(x[1]), float(x[2])))"
   ]
  },
  {
   "cell_type": "code",
   "execution_count": 17,
   "metadata": {},
   "outputs": [],
   "source": [
    "train, test = ratings.randomSplit([0.7,0.3],7856)"
   ]
  },
  {
   "cell_type": "code",
   "execution_count": 18,
   "metadata": {},
   "outputs": [
    {
     "data": {
      "text/plain": [
       "69958"
      ]
     },
     "execution_count": 18,
     "metadata": {},
     "output_type": "execute_result"
    }
   ],
   "source": [
    "train.count()"
   ]
  },
  {
   "cell_type": "code",
   "execution_count": 19,
   "metadata": {},
   "outputs": [
    {
     "data": {
      "text/plain": [
       "30042"
      ]
     },
     "execution_count": 19,
     "metadata": {},
     "output_type": "execute_result"
    }
   ],
   "source": [
    "test.count()"
   ]
  },
  {
   "cell_type": "code",
   "execution_count": 20,
   "metadata": {},
   "outputs": [
    {
     "data": {
      "text/plain": [
       "PythonRDD[19] at RDD at PythonRDD.scala:53"
      ]
     },
     "execution_count": 20,
     "metadata": {},
     "output_type": "execute_result"
    }
   ],
   "source": [
    "#catch內容於記憶體中\n",
    "train.cache()\n",
    "test.cache()"
   ]
  },
  {
   "cell_type": "code",
   "execution_count": 21,
   "metadata": {},
   "outputs": [],
   "source": [
    "# Setting up the parameters for ALS\n",
    "\n",
    "# latent factors to be made\n",
    "rank=5\n",
    "\n",
    "# times to repeat process\n",
    "numIterations=10\n",
    "\n",
    "# create the model on the training data\n",
    "model = ALS.train(train, rank, numIterations)\n",
    "\n"
   ]
  },
  {
   "cell_type": "code",
   "execution_count": 22,
   "metadata": {},
   "outputs": [
    {
     "data": {
      "text/plain": [
       "(1,\n",
       " array('d', [1.7188128232955933, -0.019026046618819237, 0.7569171190261841, 0.2330550104379654, -0.3280242085456848]))"
      ]
     },
     "execution_count": 22,
     "metadata": {},
     "output_type": "execute_result"
    }
   ],
   "source": [
    "# examine the latent features for one product\n",
    "model.productFeatures().first()"
   ]
  },
  {
   "cell_type": "code",
   "execution_count": 23,
   "metadata": {},
   "outputs": [
    {
     "data": {
      "text/plain": [
       "(1,\n",
       " array('d', [1.4764412641525269, -0.0729249119758606, 1.3866300582885742, 0.462444931268692, -0.6250641345977783]))"
      ]
     },
     "execution_count": 23,
     "metadata": {},
     "output_type": "execute_result"
    }
   ],
   "source": [
    "# examine the latent features for one user\n",
    "model.userFeatures().first()"
   ]
  },
  {
   "cell_type": "code",
   "execution_count": 24,
   "metadata": {},
   "outputs": [
    {
     "data": {
      "text/plain": [
       "[Rating(user=196, product=1434, rating=8.483746248652208),\n",
       " Rating(user=196, product=899, rating=7.19221208167518),\n",
       " Rating(user=196, product=1324, rating=7.049903990227193),\n",
       " Rating(user=196, product=1512, rating=7.025723133404712),\n",
       " Rating(user=196, product=745, rating=6.715743133553768),\n",
       " Rating(user=196, product=394, rating=6.69689580053476),\n",
       " Rating(user=196, product=589, rating=6.527601022770478),\n",
       " Rating(user=196, product=1385, rating=6.515465647363044),\n",
       " Rating(user=196, product=1472, rating=6.515231027601235),\n",
       " Rating(user=196, product=1279, rating=6.478517705616138)]"
      ]
     },
     "execution_count": 24,
     "metadata": {},
     "output_type": "execute_result"
    }
   ],
   "source": [
    "# for user Y find N products to promote\n",
    "model.recommendProducts(196,10)"
   ]
  },
  {
   "cell_type": "code",
   "execution_count": 25,
   "metadata": {},
   "outputs": [
    {
     "data": {
      "text/plain": [
       "[Rating(user=471, product=242, rating=6.661716974806898),\n",
       " Rating(user=928, product=242, rating=6.0578018749782245),\n",
       " Rating(user=98, product=242, rating=5.994626918190361),\n",
       " Rating(user=240, product=242, rating=5.597313982227215),\n",
       " Rating(user=53, product=242, rating=5.5562673578912705),\n",
       " Rating(user=516, product=242, rating=5.456702612145154),\n",
       " Rating(user=274, product=242, rating=5.37396717354893),\n",
       " Rating(user=362, product=242, rating=5.360063082894397),\n",
       " Rating(user=180, product=242, rating=5.345888410391948),\n",
       " Rating(user=739, product=242, rating=5.275808446369879),\n",
       " Rating(user=4, product=242, rating=5.268901132570653),\n",
       " Rating(user=310, product=242, rating=5.221365004636517),\n",
       " Rating(user=848, product=242, rating=5.1792662765830535),\n",
       " Rating(user=419, product=242, rating=5.17166694890166),\n",
       " Rating(user=686, product=242, rating=5.146540012479504),\n",
       " Rating(user=153, product=242, rating=5.12077486273501),\n",
       " Rating(user=513, product=242, rating=5.0842307748023625),\n",
       " Rating(user=768, product=242, rating=5.083984104479784),\n",
       " Rating(user=688, product=242, rating=5.065988695984783),\n",
       " Rating(user=770, product=242, rating=5.063797539186366),\n",
       " Rating(user=183, product=242, rating=5.058187802721047),\n",
       " Rating(user=350, product=242, rating=5.054450989618849),\n",
       " Rating(user=54, product=242, rating=5.048370136596937),\n",
       " Rating(user=242, product=242, rating=5.046310162470496),\n",
       " Rating(user=52, product=242, rating=5.044188363994976),\n",
       " Rating(user=295, product=242, rating=5.035733402016494),\n",
       " Rating(user=68, product=242, rating=5.033347789697334),\n",
       " Rating(user=440, product=242, rating=5.031744563012513),\n",
       " Rating(user=670, product=242, rating=5.018201477467603),\n",
       " Rating(user=46, product=242, rating=5.018147222534469),\n",
       " Rating(user=173, product=242, rating=5.012236532295704),\n",
       " Rating(user=174, product=242, rating=5.008163724462069),\n",
       " Rating(user=523, product=242, rating=5.003412484460993),\n",
       " Rating(user=136, product=242, rating=4.9957120901894),\n",
       " Rating(user=34, product=242, rating=4.9793763155584045),\n",
       " Rating(user=771, product=242, rating=4.97840179639053),\n",
       " Rating(user=306, product=242, rating=4.975573556993181),\n",
       " Rating(user=386, product=242, rating=4.969420088020177),\n",
       " Rating(user=605, product=242, rating=4.941799035453069),\n",
       " Rating(user=270, product=242, rating=4.941251169840699),\n",
       " Rating(user=849, product=242, rating=4.932517320073147),\n",
       " Rating(user=519, product=242, rating=4.921621891287328),\n",
       " Rating(user=803, product=242, rating=4.920388239266284),\n",
       " Rating(user=675, product=242, rating=4.916390059811512),\n",
       " Rating(user=147, product=242, rating=4.905900027979934),\n",
       " Rating(user=338, product=242, rating=4.904890876874951),\n",
       " Rating(user=531, product=242, rating=4.90451941660486),\n",
       " Rating(user=862, product=242, rating=4.898161905058456),\n",
       " Rating(user=711, product=242, rating=4.889404816707188),\n",
       " Rating(user=511, product=242, rating=4.8865859529954),\n",
       " Rating(user=477, product=242, rating=4.875413696892583),\n",
       " Rating(user=499, product=242, rating=4.863147143990801),\n",
       " Rating(user=623, product=242, rating=4.85135900640562),\n",
       " Rating(user=312, product=242, rating=4.850940592005852),\n",
       " Rating(user=233, product=242, rating=4.846823579480029),\n",
       " Rating(user=414, product=242, rating=4.846155209483739),\n",
       " Rating(user=403, product=242, rating=4.841179645719087),\n",
       " Rating(user=503, product=242, rating=4.831316381104878),\n",
       " Rating(user=830, product=242, rating=4.830225581397954),\n",
       " Rating(user=676, product=242, rating=4.825503470930602),\n",
       " Rating(user=96, product=242, rating=4.813486766636956),\n",
       " Rating(user=395, product=242, rating=4.8122486538182825),\n",
       " Rating(user=890, product=242, rating=4.810337982605343),\n",
       " Rating(user=119, product=242, rating=4.809290423633975),\n",
       " Rating(user=613, product=242, rating=4.788668342909048),\n",
       " Rating(user=78, product=242, rating=4.785301965874453),\n",
       " Rating(user=390, product=242, rating=4.785036417999713),\n",
       " Rating(user=767, product=242, rating=4.7806453439756),\n",
       " Rating(user=590, product=242, rating=4.759796674036773),\n",
       " Rating(user=357, product=242, rating=4.759636750027598),\n",
       " Rating(user=105, product=242, rating=4.7584035591066085),\n",
       " Rating(user=122, product=242, rating=4.7526332944590095),\n",
       " Rating(user=742, product=242, rating=4.746971309642416),\n",
       " Rating(user=296, product=242, rating=4.737777132392988),\n",
       " Rating(user=850, product=242, rating=4.736426867310175),\n",
       " Rating(user=402, product=242, rating=4.728768210638897),\n",
       " Rating(user=717, product=242, rating=4.7202847488649216),\n",
       " Rating(user=30, product=242, rating=4.719994673869216),\n",
       " Rating(user=909, product=242, rating=4.702626932325194),\n",
       " Rating(user=837, product=242, rating=4.700343436920618),\n",
       " Rating(user=565, product=242, rating=4.694731972748844),\n",
       " Rating(user=923, product=242, rating=4.690234312330327),\n",
       " Rating(user=343, product=242, rating=4.689353842731547),\n",
       " Rating(user=437, product=242, rating=4.681962862927389),\n",
       " Rating(user=257, product=242, rating=4.669265489019184),\n",
       " Rating(user=697, product=242, rating=4.664093845086951),\n",
       " Rating(user=217, product=242, rating=4.661982326249933),\n",
       " Rating(user=89, product=242, rating=4.661013517918757),\n",
       " Rating(user=121, product=242, rating=4.653368712126042),\n",
       " Rating(user=94, product=242, rating=4.646640206022887),\n",
       " Rating(user=740, product=242, rating=4.645200886251004),\n",
       " Rating(user=423, product=242, rating=4.639247927564307),\n",
       " Rating(user=701, product=242, rating=4.638997647884453),\n",
       " Rating(user=45, product=242, rating=4.636586383118984),\n",
       " Rating(user=142, product=242, rating=4.635663267324688),\n",
       " Rating(user=330, product=242, rating=4.6244279579686065),\n",
       " Rating(user=857, product=242, rating=4.624209314510178),\n",
       " Rating(user=891, product=242, rating=4.622159689725007),\n",
       " Rating(user=706, product=242, rating=4.621300555303792),\n",
       " Rating(user=22, product=242, rating=4.618952353881258)]"
      ]
     },
     "execution_count": 25,
     "metadata": {},
     "output_type": "execute_result"
    }
   ],
   "source": [
    "# for product X find N users to sell to\n",
    "model.recommendUsers(242,100)"
   ]
  },
  {
   "cell_type": "code",
   "execution_count": 26,
   "metadata": {},
   "outputs": [
    {
     "data": {
      "text/plain": [
       "3.8833548721460325"
      ]
     },
     "execution_count": 26,
     "metadata": {},
     "output_type": "execute_result"
    }
   ],
   "source": [
    "# predict single product for single user\n",
    "model.predict(196,242)"
   ]
  },
  {
   "cell_type": "code",
   "execution_count": 27,
   "metadata": {},
   "outputs": [
    {
     "data": {
      "text/plain": [
       "[(196, 242)]"
      ]
     },
     "execution_count": 27,
     "metadata": {},
     "output_type": "execute_result"
    }
   ],
   "source": [
    "# predict multi users and multi products\n",
    "pred_input=train.map(lambda x:(x[0],x[1]))\n",
    "pred_input.take(1)"
   ]
  },
  {
   "cell_type": "code",
   "execution_count": 28,
   "metadata": {},
   "outputs": [
    {
     "data": {
      "text/plain": [
       "[Rating(user=195, product=1084, rating=3.865942608674886)]"
      ]
     },
     "execution_count": 28,
     "metadata": {},
     "output_type": "execute_result"
    }
   ],
   "source": [
    "# returns Ratings(user, item, prediction)\n",
    "pred = model.predictAll(pred_input) \n",
    "pred.take(1)"
   ]
  },
  {
   "cell_type": "code",
   "execution_count": 29,
   "metadata": {},
   "outputs": [],
   "source": [
    "# Get Performance Estimate\n",
    "# Organize the data to make (user, product)\n",
    "\n",
    "true_reorg=train.map(lambda x: ((x[0],x[1]), x[2]))\n",
    "pred_reorg=pred.map(lambda x: ((x[0],x[1]), x[2]))"
   ]
  },
  {
   "cell_type": "code",
   "execution_count": 30,
   "metadata": {},
   "outputs": [],
   "source": [
    "#結合兩個資料\n",
    "true_pred=true_reorg.join(pred_reorg)"
   ]
  },
  {
   "cell_type": "code",
   "execution_count": 31,
   "metadata": {},
   "outputs": [],
   "source": [
    "from math import sqrt"
   ]
  },
  {
   "cell_type": "code",
   "execution_count": 32,
   "metadata": {},
   "outputs": [],
   "source": [
    "MSE=true_pred.map(lambda r: (r[1][0]-r[1][1])**2).mean()"
   ]
  },
  {
   "cell_type": "code",
   "execution_count": 33,
   "metadata": {},
   "outputs": [],
   "source": [
    "RMSE=sqrt(MSE)"
   ]
  },
  {
   "cell_type": "code",
   "execution_count": 34,
   "metadata": {},
   "outputs": [
    {
     "name": "stdout",
     "output_type": "stream",
     "text": [
      "MSE=0.5840948079485064\n",
      "RMSE=0.7642609553997289\n"
     ]
    }
   ],
   "source": [
    "print(\"MSE={}\".format(MSE))\n",
    "print(\"RMSE={}\".format(sqrt(MSE)))"
   ]
  },
  {
   "cell_type": "code",
   "execution_count": 35,
   "metadata": {},
   "outputs": [],
   "source": [
    "# evaluation\n",
    "test_input=test.map(lambda x:(x[0],x[1]))\n",
    "pred_test=model.predictAll(test_input)\n",
    "test_reorg=test.map(lambda x:((x[0],x[1]),x[2]))\n",
    "pred_reorg = pred_test.map(lambda x:((x[0],x[1]), x[2]))\n",
    "test_pred = test_reorg.join(pred_reorg)\n",
    "test_MSE = test_pred.map(lambda r: (r[1][0] - r[1][1])**2).mean()\n",
    "test_RMSE = sqrt(test_MSE)"
   ]
  },
  {
   "cell_type": "code",
   "execution_count": 36,
   "metadata": {},
   "outputs": [],
   "source": [
    "# save model\n",
    "model.save(sc,\"/home/jovyan/dataset/ml-recommandation-model\")"
   ]
  },
  {
   "cell_type": "code",
   "execution_count": 37,
   "metadata": {},
   "outputs": [],
   "source": [
    "# load model\n",
    "sameModel = MatrixFactorizationModel.load(sc, \"/home/jovyan/dataset/ml-recommandation-model\")"
   ]
  },
  {
   "cell_type": "code",
   "execution_count": 38,
   "metadata": {},
   "outputs": [],
   "source": [
    "# prediction\n",
    "data=sc.parallelize([(196,242)])\n",
    "pred=predictions = sameModel.predictAll(data)"
   ]
  },
  {
   "cell_type": "code",
   "execution_count": 39,
   "metadata": {},
   "outputs": [
    {
     "data": {
      "text/plain": [
       "[Rating(user=196, product=242, rating=3.8833548721460325)]"
      ]
     },
     "execution_count": 39,
     "metadata": {},
     "output_type": "execute_result"
    }
   ],
   "source": [
    "pred.take(1)"
   ]
  },
  {
   "cell_type": "code",
   "execution_count": null,
   "metadata": {},
   "outputs": [],
   "source": []
  }
 ],
 "metadata": {
  "kernelspec": {
   "display_name": "Python 3",
   "language": "python",
   "name": "python3"
  },
  "language_info": {
   "codemirror_mode": {
    "name": "ipython",
    "version": 3
   },
   "file_extension": ".py",
   "mimetype": "text/x-python",
   "name": "python",
   "nbconvert_exporter": "python",
   "pygments_lexer": "ipython3",
   "version": "3.7.3"
  }
 },
 "nbformat": 4,
 "nbformat_minor": 2
}

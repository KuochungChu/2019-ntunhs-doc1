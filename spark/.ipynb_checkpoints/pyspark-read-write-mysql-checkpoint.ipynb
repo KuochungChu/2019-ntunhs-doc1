{
 "cells": [
  {
   "cell_type": "code",
   "execution_count": 1,
   "metadata": {},
   "outputs": [],
   "source": [
    "from pyspark.sql import SparkSession, SQLContext, DataFrame\n",
    "from pyspark.sql.readwriter import DataFrameReader, DataFrameWriter\n",
    "\n",
    "appname = \"read-write-mysql\"\n",
    "sparkmaster = \"local\"\n",
    "spark = SparkSession.builder.appName(appname).master(sparkmaster).getOrCreate()\n",
    "sc = spark.sparkContext\n",
    "\n",
    "sqlContext = SQLContext(sc)"
   ]
  },
  {
   "cell_type": "markdown",
   "metadata": {},
   "source": [
    "# 自行建立一個表格 (DataFrame)"
   ]
  },
  {
   "cell_type": "code",
   "execution_count": 2,
   "metadata": {},
   "outputs": [
    {
     "name": "stdout",
     "output_type": "stream",
     "text": [
      "+---+---+\n",
      "|  A|  B|\n",
      "+---+---+\n",
      "|  1|  2|\n",
      "|  3|  4|\n",
      "+---+---+\n",
      "\n"
     ]
    }
   ],
   "source": [
    "dt = sqlContext.createDataFrame(data=[(1,2),(3,4)], schema=(\"A\",\"B\"))\n",
    "dt.show()"
   ]
  },
  {
   "cell_type": "markdown",
   "metadata": {},
   "source": [
    "# 自行建立一個 RDD，並且轉為 dataframe"
   ]
  },
  {
   "cell_type": "code",
   "execution_count": 3,
   "metadata": {},
   "outputs": [
    {
     "name": "stdout",
     "output_type": "stream",
     "text": [
      "+---+----+\n",
      "| id|name|\n",
      "+---+----+\n",
      "|  a|   4|\n",
      "|  b|   5|\n",
      "+---+----+\n",
      "\n"
     ]
    }
   ],
   "source": [
    "rdd = sc.parallelize([('a',4),('b',5)])\n",
    "df = rdd.toDF([\"id\",\"name\"])\n",
    "df.show()"
   ]
  },
  {
   "cell_type": "markdown",
   "metadata": {},
   "source": [
    "# 寫入 mysql "
   ]
  },
  {
   "cell_type": "code",
   "execution_count": 5,
   "metadata": {},
   "outputs": [],
   "source": [
    "df.write.format('jdbc').options(\n",
    "    url=\"jdbc:mysql://172.18.0.2:3306/iii\",\n",
    "    driver=\"com.mysql.jdbc.Driver\",\n",
    "    dbtable=\"iii\",\n",
    "    user=\"root\",\n",
    "    password=\"iii\"\n",
    ").mode('append').save()"
   ]
  },
  {
   "cell_type": "markdown",
   "metadata": {},
   "source": [
    "# 讀取 mysql 表格資訊"
   ]
  },
  {
   "cell_type": "code",
   "execution_count": 6,
   "metadata": {},
   "outputs": [],
   "source": [
    "df=sqlContext.read.format(\"jdbc\").options(url=\"jdbc:mysql://172.18.0.2:3306/iii\",\n",
    "                                       driver=\"com.mysql.jdbc.Driver\",\n",
    "                                       dbtable=\"(SELECT * FROM iii) tmp\",user=\"root\",\n",
    "                                       password=\"iii\").load()"
   ]
  },
  {
   "cell_type": "code",
   "execution_count": 7,
   "metadata": {},
   "outputs": [
    {
     "name": "stdout",
     "output_type": "stream",
     "text": [
      "root\n",
      " |-- id: string (nullable = true)\n",
      " |-- name: string (nullable = true)\n",
      "\n",
      "None\n"
     ]
    }
   ],
   "source": [
    "print(df.printSchema())"
   ]
  },
  {
   "cell_type": "code",
   "execution_count": 8,
   "metadata": {},
   "outputs": [
    {
     "name": "stdout",
     "output_type": "stream",
     "text": [
      "+---+----+\n",
      "| id|name|\n",
      "+---+----+\n",
      "|abc| 123|\n",
      "|abc| 456|\n",
      "|abc| 789|\n",
      "|  a|   4|\n",
      "|  b|   5|\n",
      "|  a|   4|\n",
      "|  b|   5|\n",
      "|  a|   4|\n",
      "|  b|   5|\n",
      "+---+----+\n",
      "\n",
      "None\n"
     ]
    }
   ],
   "source": [
    "print(df.show())"
   ]
  },
  {
   "cell_type": "code",
   "execution_count": 10,
   "metadata": {},
   "outputs": [],
   "source": [
    "#儲存結果 (CSV)\n",
    "df.write.format(\"com.databricks.spark.csv\").save('/home/jovyan/dataset/iii')"
   ]
  },
  {
   "cell_type": "code",
   "execution_count": 11,
   "metadata": {},
   "outputs": [],
   "source": [
    "#儲存結果 (parquet)\n",
    "df.write.format(\"parquet\").save('/home/jovyan/dataset/parquet')"
   ]
  },
  {
   "cell_type": "code",
   "execution_count": 12,
   "metadata": {},
   "outputs": [
    {
     "name": "stdout",
     "output_type": "stream",
     "text": [
      "+---+---+\n",
      "|abc|123|\n",
      "+---+---+\n",
      "|abc|456|\n",
      "|abc|789|\n",
      "|  a|  4|\n",
      "|  b|  5|\n",
      "|  a|  4|\n",
      "|  b|  5|\n",
      "|  a|  4|\n",
      "|  b|  5|\n",
      "+---+---+\n",
      "\n"
     ]
    }
   ],
   "source": [
    "#讀取檔案 (CSV)\n",
    "df_csv =sqlContext.read.format(\"csv\").option(\"header\", \"true\").load(\"/home/jovyan/dataset/iii/*\")\n",
    "df_csv.show()"
   ]
  },
  {
   "cell_type": "code",
   "execution_count": 13,
   "metadata": {},
   "outputs": [
    {
     "name": "stdout",
     "output_type": "stream",
     "text": [
      "+---+----+\n",
      "| id|name|\n",
      "+---+----+\n",
      "|abc| 123|\n",
      "|abc| 456|\n",
      "|abc| 789|\n",
      "|  a|   4|\n",
      "|  b|   5|\n",
      "|  a|   4|\n",
      "|  b|   5|\n",
      "|  a|   4|\n",
      "|  b|   5|\n",
      "+---+----+\n",
      "\n"
     ]
    }
   ],
   "source": [
    "#讀取檔案 (parquet)\n",
    "df_parquet =sqlContext.read.format(\"parquet\").option(\"header\", \"true\").load(\"/home/jovyan/dataset/parquet/*\")\n",
    "df_parquet.show()"
   ]
  },
  {
   "cell_type": "code",
   "execution_count": null,
   "metadata": {},
   "outputs": [],
   "source": []
  },
  {
   "cell_type": "code",
   "execution_count": null,
   "metadata": {},
   "outputs": [],
   "source": []
  }
 ],
 "metadata": {
  "kernelspec": {
   "display_name": "Python 3",
   "language": "python",
   "name": "python3"
  },
  "language_info": {
   "codemirror_mode": {
    "name": "ipython",
    "version": 3
   },
   "file_extension": ".py",
   "mimetype": "text/x-python",
   "name": "python",
   "nbconvert_exporter": "python",
   "pygments_lexer": "ipython3",
   "version": "3.7.3"
  }
 },
 "nbformat": 4,
 "nbformat_minor": 2
}

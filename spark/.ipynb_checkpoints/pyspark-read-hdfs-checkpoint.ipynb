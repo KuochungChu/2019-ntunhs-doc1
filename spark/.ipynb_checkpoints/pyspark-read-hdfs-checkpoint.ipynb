{
 "cells": [
  {
   "cell_type": "markdown",
   "metadata": {},
   "source": [
    "# 此 demo 程式僅讀取 hdfs 資料\n",
    "\n",
    "* 該資料 /home/jovyan/dataset/hdfs.txt 由 curl webhdfs 取得"
   ]
  },
  {
   "cell_type": "code",
   "execution_count": 1,
   "metadata": {},
   "outputs": [],
   "source": [
    "f = open(\"/home/jovyan/dataset/hdfs.txt\", \"r\")\n",
    "text= f.read()"
   ]
  },
  {
   "cell_type": "code",
   "execution_count": 2,
   "metadata": {},
   "outputs": [],
   "source": [
    "text = text.split('\\n\\n')"
   ]
  },
  {
   "cell_type": "code",
   "execution_count": 6,
   "metadata": {},
   "outputs": [
    {
     "data": {
      "text/plain": [
       "'{\\'URL\\': \\'https://www.cnbc.com/2019/04/20/south-china-sea-beijing-to-show-new-warships-on-navy-anniversary.html\\', \\'TITLE\\': \\'China to show new warships as Beijing flexes military muscle on navy anniversary\\', \\'TEXT\\': \"Beijing unveiled a target of 7.5 percent rise in defense spending for this year, a slower rate than last year but still outpacing China\\'s economic growth target.President Xi Jinping is overseeing a sweeping plan to refurbish the People\\'s Liberation Army by developing everything from stealth jets to aircraft carriers as China ramps up its presence in the South China Sea and around self-ruled Taiwan.China has frequently had to rebuff concerns about its military intentions, especially as military spending continues to scale new heights.\"}\\n{\\'URL\\': \\'https://www.cnbc.com/2019/04/20/boeings-dreamliner-jet-now-facing-claims-of-manufacturing-issues-nyt-report.html\\', \\'TITLE\\': \"Boeing\\'s Dreamliner jet is now facing claims of manufacturing issues\", \\'TEXT\\': \\'The New York Times reported on Saturday that the newspaper\\\\\\'s investigation of a Boeing plant \"reveals a culture that often valued production speed over quality.\"The Times said it reviewed \"hundreds of pages of internal emails, corporate documents and federal records.\"Boeing workers have filed numerous safety complaints with the federal government over issues ranging from shoddy manufacturing practices to tools and debris being left on planes, The New York Times reports.\\'}\\n{\\'URL\\': \\'https://www.cnbc.com/2019/04/20/world-federation-of-advertisers-ask-tech-companies-to-be-responsible.html\\', \\'TITLE\\': \\'Advertisers are calling on Facebook and Google to clean up their act or risk losing billions\\', \\'TEXT\\': \\'Mastercard CMO Raja Rajamannar, the new president of the World Federation of Advertisers, said he wants to see the \"game plan\" from social media platforms.Facebook, Instagram and YouTube have been under fire after displaying content ranging from self-harm to live-streaming of a terrorist attack in Christchurch, New Zealand.Since the platforms receive so much revenue from advertising, \"They cannot completely ignore the rightful preferences of the advertisers,\" said Rajamannar.\\'}\\n'"
      ]
     },
     "execution_count": 6,
     "metadata": {},
     "output_type": "execute_result"
    }
   ],
   "source": [
    "#內容是list\n",
    "text[4]\n"
   ]
  },
  {
   "cell_type": "markdown",
   "metadata": {},
   "source": [
    "# 去除混淆符號"
   ]
  },
  {
   "cell_type": "code",
   "execution_count": 11,
   "metadata": {},
   "outputs": [],
   "source": [
    "import json\n",
    "t = text[4].replace(\"'\", '\"')\n",
    "t = t.replace(\"\\\\\",\"\")"
   ]
  },
  {
   "cell_type": "markdown",
   "metadata": {},
   "source": [
    "# 取得固定文字\n",
    "* 因為文字內容很亂，但是必須找到一個固定的pattern，把想要的部分抓取出來\n",
    "* 在此，通常我們都會用正規表達式 (regular expression)"
   ]
  },
  {
   "cell_type": "code",
   "execution_count": 12,
   "metadata": {},
   "outputs": [],
   "source": [
    "import re\n",
    "match = re.findall(r\"\\s\\\"TEXT\\\":\\w*\\s*\\\"[a-zA-Z0-9\\s\\\".\\,-]*\",t)"
   ]
  },
  {
   "cell_type": "markdown",
   "metadata": {},
   "source": [
    "# 寫入檔案，共後續 Term Frequency (TF) 執行"
   ]
  },
  {
   "cell_type": "code",
   "execution_count": 13,
   "metadata": {},
   "outputs": [],
   "source": [
    "with open('/home/jovyan/dataset/after-hdfs.txt', 'w') as f:\n",
    "    for item in match:\n",
    "        f.write(\"%s\\n\" % item)"
   ]
  },
  {
   "cell_type": "markdown",
   "metadata": {},
   "source": [
    "# 利用 jupyter notebook 執行 linux 相關指令"
   ]
  },
  {
   "cell_type": "code",
   "execution_count": 14,
   "metadata": {},
   "outputs": [
    {
     "name": "stdout",
     "output_type": "stream",
     "text": [
      " \"TEXT\": \"Beijing unveiled a target of 7.5 percent rise in defense spending for this year, a slower rate than last year but still outpacing China\"s economic growth target.President Xi Jinping is overseeing a sweeping plan to refurbish the People\"s Liberation Army by developing everything from stealth jets to aircraft carriers as China ramps up its presence in the South China Sea and around self-ruled Taiwan.China has frequently had to rebuff concerns about its military intentions, especially as military spending continues to scale new heights.\"\r\n",
      " \"TEXT\": \"The New York Times reported on Saturday that the newspaper\"s investigation of a Boeing plant \"reveals a culture that often valued production speed over quality.\"The Times said it reviewed \"hundreds of pages of internal emails, corporate documents and federal records.\"Boeing workers have filed numerous safety complaints with the federal government over issues ranging from shoddy manufacturing practices to tools and debris being left on planes, The New York Times reports.\"\r\n",
      " \"TEXT\": \"Mastercard CMO Raja Rajamannar, the new president of the World Federation of Advertisers, said he wants to see the \"game plan\" from social media platforms.Facebook, Instagram and YouTube have been under fire after displaying content ranging from self-harm to live-streaming of a terrorist attack in Christchurch, New Zealand.Since the platforms receive so much revenue from advertising, \"They cannot completely ignore the rightful preferences of the advertisers,\" said Rajamannar.\"\r\n"
     ]
    }
   ],
   "source": [
    "cat /home/jovyan/dataset/after-hdfs.txt"
   ]
  },
  {
   "cell_type": "code",
   "execution_count": null,
   "metadata": {},
   "outputs": [],
   "source": []
  }
 ],
 "metadata": {
  "kernelspec": {
   "display_name": "Python 3",
   "language": "python",
   "name": "python3"
  },
  "language_info": {
   "codemirror_mode": {
    "name": "ipython",
    "version": 3
   },
   "file_extension": ".py",
   "mimetype": "text/x-python",
   "name": "python",
   "nbconvert_exporter": "python",
   "pygments_lexer": "ipython3",
   "version": "3.7.3"
  }
 },
 "nbformat": 4,
 "nbformat_minor": 2
}
